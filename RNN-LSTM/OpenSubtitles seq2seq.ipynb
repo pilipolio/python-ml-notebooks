{
 "cells": [
  {
   "cell_type": "markdown",
   "metadata": {},
   "source": [
    "# Sentence2sentence generation based on OpenSubtitles\n",
    "Inspired by the article: https://arxiv.org/abs/1506.05869 (https://arxiv.org/pdf/1506.05869.pdf)\n",
    "\n",
    "See: http://www.opensubtitles.org/ and http://opus.lingfil.uu.se/OpenSubtitles.php"
   ]
  },
  {
   "cell_type": "markdown",
   "metadata": {},
   "source": [
    "Model: \n",
    "- 2-layered LSTM (4096 memory cells each).\n",
    "- AdaGrad with gradient clipping. \n",
    "- Vocabulary most frequent 100K words.\n",
    "- To speed-up softmax: project memory cells to 2048 linear units before feeding info to the classifier."
   ]
  },
  {
   "cell_type": "markdown",
   "metadata": {},
   "source": [
    "Predict the next sentence (token-by-token) by several ones before it. "
   ]
  },
  {
   "cell_type": "markdown",
   "metadata": {},
   "source": [
    "\"Greedy\" inference approach: feed the predicted output token as input to predict the next output (an alternative could be a \"beam search\")."
   ]
  },
  {
   "cell_type": "markdown",
   "metadata": {},
   "source": [
    "## Prepare data\n",
    "\n",
    "To get data run ./setup.sh from OpenSubtitles parser: https://github.com/inikdom/opensubtitles-parser\n",
    "It will generate a bunch of raw text files with sentences\n",
    "\n",
    "In the original article they had: movie conversations in XML, training - 62M sentences (923M tokens), validation - 26M sentences (395M tokens)."
   ]
  },
  {
   "cell_type": "code",
   "execution_count": 24,
   "metadata": {
    "collapsed": false
   },
   "outputs": [
    {
     "name": "stdout",
     "output_type": "stream",
     "text": [
      "[('25 . 000', 'catch a falling star'), ('catch a falling star', 'and put it in your pocket'), ('and put it in your pocket', 'never iet itfade away'), ('never iet itfade away', 'catch afailing star and put it in your pocket ...'), ('catch afailing star and put it in your pocket ...', 'you know how in some movies ... they have a dream sequence , only they dontteii you its a dream ?'), ('you know how in some movies ... they have a dream sequence , only they dontteii you its a dream ?', 'this is so not a dream .'), ('this is so not a dream .', 'itwasnt supposed to be iike this .'), ('itwasnt supposed to be iike this .', 'i was justtrying to do my job , and then things happened .'), ('i was justtrying to do my job , and then things happened .', 'weil , iife happened .'), ('weil , iife happened .', 'and now im here .')]\n"
     ]
    },
    {
     "data": {
      "text/plain": [
       "2663918"
      ]
     },
     "execution_count": 24,
     "metadata": {},
     "output_type": "execute_result"
    }
   ],
   "source": [
    "import glob\n",
    "import numpy as np \n",
    "\n",
    "raw_files_pattern = \"data/opensubtitles/*.txt\" \n",
    "\n",
    "seq2seq_data = []\n",
    "for filename in glob.glob(raw_files_pattern):\n",
    "    with open(filename, \"r\") as file:\n",
    "        lines = file.read().splitlines()\n",
    "        file_seq2seq = list(zip(lines[:-1], lines[1:]))\n",
    "        seq2seq_data.extend(file_seq2seq)\n",
    "print(seq2seq_data[:10])\n",
    "len(seq2seq_data)"
   ]
  },
  {
   "cell_type": "code",
   "execution_count": null,
   "metadata": {
    "collapsed": true
   },
   "outputs": [],
   "source": [
    "    "
   ]
  }
 ],
 "metadata": {
  "anaconda-cloud": {},
  "kernelspec": {
   "display_name": "Python [conda env:tensorflow]",
   "language": "python",
   "name": "conda-env-tensorflow-py"
  },
  "language_info": {
   "codemirror_mode": {
    "name": "ipython",
    "version": 3
   },
   "file_extension": ".py",
   "mimetype": "text/x-python",
   "name": "python",
   "nbconvert_exporter": "python",
   "pygments_lexer": "ipython3",
   "version": "3.5.2"
  }
 },
 "nbformat": 4,
 "nbformat_minor": 1
}
