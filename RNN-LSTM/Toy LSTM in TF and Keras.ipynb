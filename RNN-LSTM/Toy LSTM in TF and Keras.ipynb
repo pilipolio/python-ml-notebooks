{
 "cells": [
  {
   "cell_type": "markdown",
   "metadata": {},
   "source": [
    "## Learning to count sequences of ones with RNNs: Keras implementation\n",
    "\n",
    "Inspired from http://monik.in/a-noobs-guide-to-implementing-rnn-lstm-using-tensorflow/\n",
    "\n",
    "Data preprocessing taken from https://github.com/pilipolio/python-ml-notebooks/blob/master/rnn/LSTM_toy.ipynb"
   ]
  },
  {
   "cell_type": "code",
   "execution_count": 31,
   "metadata": {
    "collapsed": false
   },
   "outputs": [
    {
     "data": {
      "text/plain": [
       "'0.12.1'"
      ]
     },
     "execution_count": 31,
     "metadata": {},
     "output_type": "execute_result"
    }
   ],
   "source": [
    "import numpy as np\n",
    "import tensorflow as tf\n",
    "sess = tf.InteractiveSession()\n",
    "\n",
    "tf.__version__"
   ]
  },
  {
   "cell_type": "code",
   "execution_count": 32,
   "metadata": {
    "collapsed": false
   },
   "outputs": [
    {
     "name": "stdout",
     "output_type": "stream",
     "text": [
      "[[ 1.  1.  0.  1.  0.]\n",
      " [ 0.  0.  1.  1.  1.]\n",
      " [ 0.  1.  0.  1.  1.]]\n",
      "[[ 3.]\n",
      " [ 3.]\n",
      " [ 3.]]\n"
     ]
    }
   ],
   "source": [
    "n_seqs = 500000\n",
    "seq_length = 5\n",
    "\n",
    "training_seqs = np.random.randint(2, size=(n_seqs, seq_length, 1)).astype(np.float64)\n",
    "targets = training_seqs.sum(axis=1, dtype=np.float64)\n",
    "\n",
    "print(training_seqs[:3, :, 0])\n",
    "print(targets[:3])\n",
    "\n",
    "n_test_seqs = 1000\n",
    "test_seqs = []\n",
    "test_targets = []\n",
    "#while len(test_seqs) < n_test_seqs:\n",
    "#    seq = np.random.randint(2, size=(1, seq_length, 1)).astype(np.float64)"
   ]
  },
  {
   "cell_type": "markdown",
   "metadata": {},
   "source": [
    "## LSTM model in Keras"
   ]
  },
  {
   "cell_type": "code",
   "execution_count": 50,
   "metadata": {
    "collapsed": false
   },
   "outputs": [
    {
     "name": "stdout",
     "output_type": "stream",
     "text": [
      "____________________________________________________________________________________________________\n",
      "Layer (type)                     Output Shape          Param #     Connected to                     \n",
      "====================================================================================================\n",
      "lstm_17 (LSTM)                   (None, 5)             140         lstm_input_16[0][0]              \n",
      "____________________________________________________________________________________________________\n",
      "dense_14 (Dense)                 (None, 1)             6           lstm_17[0][0]                    \n",
      "====================================================================================================\n",
      "Total params: 146\n",
      "Trainable params: 146\n",
      "Non-trainable params: 0\n",
      "____________________________________________________________________________________________________\n"
     ]
    }
   ],
   "source": [
    "from keras.layers.recurrent import LSTM\n",
    "from keras.models import Sequential\n",
    "from keras.layers import Dense, Activation\n",
    "from keras.optimizers import RMSprop\n",
    "\n",
    "num_hidden = 5\n",
    "\n",
    "model = Sequential()\n",
    "model.add(LSTM(num_hidden, input_shape=(seq_length, 1), activation='sigmoid', inner_activation='hard_sigmoid'))\n",
    "model.add(Dense(1))\n",
    "# model.add(Activation('softmax'))\n",
    "optimizer = RMSprop(lr=0.01)\n",
    "model.compile(optimizer=optimizer,\n",
    "              loss='mse')\n",
    "\n",
    "model.summary()"
   ]
  },
  {
   "cell_type": "markdown",
   "metadata": {},
   "source": [
    "## Predicting the sum at the end of the sequence"
   ]
  },
  {
   "cell_type": "code",
   "execution_count": 51,
   "metadata": {
    "collapsed": false
   },
   "outputs": [
    {
     "name": "stdout",
     "output_type": "stream",
     "text": [
      "Epoch 1/10\n",
      "9s - loss: 0.2929 - acc: 0.8436\n",
      "Epoch 2/10\n",
      "7s - loss: 0.0114 - acc: 1.0000\n",
      "Epoch 3/10\n",
      "8s - loss: 0.0105 - acc: 1.0000\n",
      "Epoch 4/10\n",
      "9s - loss: 0.0098 - acc: 1.0000\n",
      "Epoch 5/10\n",
      "8s - loss: 0.0091 - acc: 1.0000\n",
      "Epoch 6/10\n",
      "8s - loss: 0.0084 - acc: 1.0000\n",
      "Epoch 7/10\n",
      "8s - loss: 0.0078 - acc: 1.0000\n",
      "Epoch 8/10\n",
      "8s - loss: 0.0073 - acc: 1.0000\n",
      "Epoch 9/10\n",
      "8s - loss: 0.0068 - acc: 1.0000\n",
      "Epoch 10/10\n",
      "8s - loss: 0.0064 - acc: 1.0000\n"
     ]
    },
    {
     "data": {
      "text/plain": [
       "<keras.callbacks.History at 0x12af4dd30>"
      ]
     },
     "execution_count": 51,
     "metadata": {},
     "output_type": "execute_result"
    }
   ],
   "source": [
    "model.fit(training_seqs, targets, batch_size=1000, nb_epoch=10, verbose=2)"
   ]
  },
  {
   "cell_type": "markdown",
   "metadata": {},
   "source": [
    "## Inspecting predictions for any sequence"
   ]
  },
  {
   "cell_type": "code",
   "execution_count": 44,
   "metadata": {
    "collapsed": false
   },
   "outputs": [
    {
     "data": {
      "text/plain": [
       "array([ 5.], dtype=float32)"
      ]
     },
     "execution_count": 44,
     "metadata": {},
     "output_type": "execute_result"
    }
   ],
   "source": [
    "x = np.array([1, 1, 1, 1, 1]).reshape((1, -1, 1))\n",
    "np.round(model.predict(x, verbose=0)[0])"
   ]
  },
  {
   "cell_type": "code",
   "execution_count": null,
   "metadata": {
    "collapsed": true
   },
   "outputs": [],
   "source": [
    "# score = model.evaluate(X_test, Y_test, batch_size=16)"
   ]
  }
 ],
 "metadata": {
  "anaconda-cloud": {},
  "kernelspec": {
   "display_name": "Python [conda env:tensorflow]",
   "language": "python",
   "name": "conda-env-tensorflow-py"
  },
  "language_info": {
   "codemirror_mode": {
    "name": "ipython",
    "version": 3
   },
   "file_extension": ".py",
   "mimetype": "text/x-python",
   "name": "python",
   "nbconvert_exporter": "python",
   "pygments_lexer": "ipython3",
   "version": "3.5.2"
  }
 },
 "nbformat": 4,
 "nbformat_minor": 2
}
