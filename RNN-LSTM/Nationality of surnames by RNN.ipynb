{
 "cells": [
  {
   "cell_type": "markdown",
   "metadata": {},
   "source": [
    "# Categorize nationality of last names by RNN\n",
    "\n",
    "From http://pytorch.org/tutorials/intermediate/char_rnn_classification_tutorial.html"
   ]
  },
  {
   "cell_type": "code",
   "execution_count": 121,
   "metadata": {
    "collapsed": false
   },
   "outputs": [
    {
     "data": {
      "text/plain": [
       "('2.0.2', '1.0.0')"
      ]
     },
     "execution_count": 121,
     "metadata": {},
     "output_type": "execute_result"
    }
   ],
   "source": [
    "import tensorflow as tf\n",
    "import keras\n",
    "sess = tf.InteractiveSession()\n",
    "\n",
    "keras.__version__, tf.__version__"
   ]
  },
  {
   "cell_type": "code",
   "execution_count": 9,
   "metadata": {
    "collapsed": false
   },
   "outputs": [
    {
     "name": "stdout",
     "output_type": "stream",
     "text": [
      "--2017-03-31 14:38:45--  https://download.pytorch.org/tutorial/data.zip\n",
      "Resolving download.pytorch.org... 13.32.176.115, 13.32.176.191, 13.32.176.164, ...\n",
      "Connecting to download.pytorch.org|13.32.176.115|:443... connected.\n",
      "HTTP request sent, awaiting response... 200 OK\n",
      "Length: 2882130 (2.7M) [application/zip]\n",
      "Saving to: 'data.zip.2'\n",
      "\n",
      "data.zip.2          100%[=====================>]   2.75M  6.43MB/s   in 0.4s   \n",
      "\n",
      "2017-03-31 14:38:46 (6.43 MB/s) - 'data.zip.2' saved [2882130/2882130]\n",
      "\n",
      "Archive:  data.zip\n",
      "   creating: data/\n",
      "  inflating: data/eng-fra.txt        \n",
      "   creating: data/names/\n",
      "  inflating: data/names/Arabic.txt   \n",
      "  inflating: data/names/Chinese.txt  \n",
      "  inflating: data/names/Czech.txt    \n",
      "  inflating: data/names/Dutch.txt    \n",
      "  inflating: data/names/English.txt  \n",
      "  inflating: data/names/French.txt   \n",
      "  inflating: data/names/German.txt   \n",
      "  inflating: data/names/Greek.txt    \n",
      "  inflating: data/names/Irish.txt    \n",
      "  inflating: data/names/Italian.txt  \n",
      "  inflating: data/names/Japanese.txt  \n",
      "  inflating: data/names/Korean.txt   \n",
      "  inflating: data/names/Polish.txt   \n",
      "  inflating: data/names/Portuguese.txt  \n",
      "  inflating: data/names/Russian.txt  \n",
      "  inflating: data/names/Scottish.txt  \n",
      "  inflating: data/names/Spanish.txt  \n",
      "  inflating: data/names/Vietnamese.txt  \n",
      "eng-fra.txt \u001b[34mnames\u001b[m\u001b[m\n"
     ]
    }
   ],
   "source": [
    "! wget https://download.pytorch.org/tutorial/data.zip\n",
    "! rm -R data\n",
    "! unzip data.zip\n",
    "! ls data"
   ]
  },
  {
   "cell_type": "code",
   "execution_count": 10,
   "metadata": {
    "collapsed": false
   },
   "outputs": [
    {
     "name": "stdout",
     "output_type": "stream",
     "text": [
      "['data/names/Arabic.txt', 'data/names/Chinese.txt', 'data/names/Czech.txt', 'data/names/Dutch.txt', 'data/names/English.txt', 'data/names/French.txt', 'data/names/German.txt', 'data/names/Greek.txt', 'data/names/Irish.txt', 'data/names/Italian.txt', 'data/names/Japanese.txt', 'data/names/Korean.txt', 'data/names/Polish.txt', 'data/names/Portuguese.txt', 'data/names/Russian.txt', 'data/names/Scottish.txt', 'data/names/Spanish.txt', 'data/names/Vietnamese.txt']\n",
      "Slusarski\n"
     ]
    }
   ],
   "source": [
    "import glob\n",
    "\n",
    "def findFiles(path): return glob.glob(path)\n",
    "\n",
    "print(findFiles('data/names/*.txt'))\n",
    "\n",
    "import unicodedata\n",
    "import string\n",
    "\n",
    "all_letters = string.ascii_letters + \" .,;'\"\n",
    "n_letters = len(all_letters)\n",
    "\n",
    "# Turn a Unicode string to plain ASCII, thanks to http://stackoverflow.com/a/518232/2809427\n",
    "def unicodeToAscii(s):\n",
    "    return ''.join(\n",
    "        c for c in unicodedata.normalize('NFD', s)\n",
    "        if unicodedata.category(c) != 'Mn'\n",
    "        and c in all_letters\n",
    "    )\n",
    "\n",
    "print(unicodeToAscii('Ślusàrski'))"
   ]
  },
  {
   "cell_type": "code",
   "execution_count": 11,
   "metadata": {
    "collapsed": false
   },
   "outputs": [
    {
     "data": {
      "text/plain": [
       "18"
      ]
     },
     "execution_count": 11,
     "metadata": {},
     "output_type": "execute_result"
    }
   ],
   "source": [
    "# Build the category_lines dictionary, a list of names per language\n",
    "category_lines = {}\n",
    "all_categories = []\n",
    "\n",
    "# Read a file and split into lines\n",
    "def readLines(filename):\n",
    "    lines = open(filename).read().strip().split('\\n')\n",
    "    return [unicodeToAscii(line) for line in lines]\n",
    "\n",
    "for filename in findFiles('data/names/*.txt'):\n",
    "    category = filename.split('/')[-1].split('.')[0]\n",
    "    all_categories.append(category)\n",
    "    lines = readLines(filename)\n",
    "    category_lines[category] = lines\n",
    "\n",
    "n_categories = len(all_categories)\n",
    "n_categories"
   ]
  },
  {
   "cell_type": "code",
   "execution_count": 123,
   "metadata": {
    "collapsed": false
   },
   "outputs": [
    {
     "name": "stdout",
     "output_type": "stream",
     "text": [
      "Index(['Arabic', 'Chinese', 'Czech', 'Dutch', 'English', 'French', 'German',\n",
      "       'Greek', 'Irish', 'Italian', 'Japanese', 'Korean', 'Polish',\n",
      "       'Portuguese', 'Russian', 'Scottish', 'Spanish', 'Vietnamese'],\n",
      "      dtype='object')\n"
     ]
    },
    {
     "data": {
      "text/html": [
       "<div>\n",
       "<table border=\"1\" class=\"dataframe\">\n",
       "  <thead>\n",
       "    <tr style=\"text-align: right;\">\n",
       "      <th></th>\n",
       "      <th>nation</th>\n",
       "      <th>name</th>\n",
       "      <th>y</th>\n",
       "    </tr>\n",
       "  </thead>\n",
       "  <tbody>\n",
       "    <tr>\n",
       "      <th>6049</th>\n",
       "      <td>English</td>\n",
       "      <td>Sampson</td>\n",
       "      <td>4</td>\n",
       "    </tr>\n",
       "    <tr>\n",
       "      <th>3443</th>\n",
       "      <td>English</td>\n",
       "      <td>Brunet</td>\n",
       "      <td>4</td>\n",
       "    </tr>\n",
       "    <tr>\n",
       "      <th>11801</th>\n",
       "      <td>Russian</td>\n",
       "      <td>Bazhaev</td>\n",
       "      <td>14</td>\n",
       "    </tr>\n",
       "    <tr>\n",
       "      <th>18380</th>\n",
       "      <td>Russian</td>\n",
       "      <td>Valtchikovski</td>\n",
       "      <td>14</td>\n",
       "    </tr>\n",
       "    <tr>\n",
       "      <th>13041</th>\n",
       "      <td>Russian</td>\n",
       "      <td>Filipiev</td>\n",
       "      <td>14</td>\n",
       "    </tr>\n",
       "    <tr>\n",
       "      <th>8091</th>\n",
       "      <td>Irish</td>\n",
       "      <td>Nuallan</td>\n",
       "      <td>8</td>\n",
       "    </tr>\n",
       "    <tr>\n",
       "      <th>18245</th>\n",
       "      <td>Russian</td>\n",
       "      <td>Vaarandi</td>\n",
       "      <td>14</td>\n",
       "    </tr>\n",
       "    <tr>\n",
       "      <th>8267</th>\n",
       "      <td>Italian</td>\n",
       "      <td>Albini</td>\n",
       "      <td>9</td>\n",
       "    </tr>\n",
       "    <tr>\n",
       "      <th>19513</th>\n",
       "      <td>Russian</td>\n",
       "      <td>Zhuravlev</td>\n",
       "      <td>14</td>\n",
       "    </tr>\n",
       "    <tr>\n",
       "      <th>7910</th>\n",
       "      <td>Greek</td>\n",
       "      <td>Pispinis</td>\n",
       "      <td>7</td>\n",
       "    </tr>\n",
       "  </tbody>\n",
       "</table>\n",
       "</div>"
      ],
      "text/plain": [
       "        nation           name   y\n",
       "6049   English        Sampson   4\n",
       "3443   English         Brunet   4\n",
       "11801  Russian        Bazhaev  14\n",
       "18380  Russian  Valtchikovski  14\n",
       "13041  Russian       Filipiev  14\n",
       "8091     Irish        Nuallan   8\n",
       "18245  Russian       Vaarandi  14\n",
       "8267   Italian         Albini   9\n",
       "19513  Russian      Zhuravlev  14\n",
       "7910     Greek       Pispinis   7"
      ]
     },
     "execution_count": 123,
     "metadata": {},
     "output_type": "execute_result"
    }
   ],
   "source": [
    "import pandas as pd\n",
    "\n",
    "name_nations = pd.DataFrame([\n",
    "    (nation,name)\n",
    "    for nation, list_of_names in category_lines.items()\n",
    "    for name in list_of_names], columns=['nation', 'name']\n",
    ")\n",
    "\n",
    "name_nations = name_nations\\\n",
    "    .assign(nation=lambda df: df.nation.astype('category'))\\\n",
    "    .assign(y=lambda df: df.nation.cat.codes\n",
    ")\n",
    "\n",
    "print(name_nations.nation.cat.categories)\n",
    "\n",
    "name_nations = name_nations.sample(n=name_nations.shape[0])\n",
    "\n",
    "name_nations.head(10)"
   ]
  },
  {
   "cell_type": "code",
   "execution_count": 112,
   "metadata": {
    "collapsed": false,
    "scrolled": true
   },
   "outputs": [
    {
     "data": {
      "text/plain": [
       "19"
      ]
     },
     "execution_count": 112,
     "metadata": {},
     "output_type": "execute_result"
    }
   ],
   "source": [
    "max_name_length = name_nations.name.apply(len).max()\n",
    "max_name_length"
   ]
  },
  {
   "cell_type": "code",
   "execution_count": 113,
   "metadata": {
    "collapsed": false
   },
   "outputs": [
    {
     "name": "stdout",
     "output_type": "stream",
     "text": [
      "[[ 0.  0.  0.  0.  0.  0.  0.  0.  0.  0.  0.  0.  0.  0.  0.  0.  0.  0.\n",
      "   0.  0.  0.  0.  0.  0.  0.  0.  0.  0.  0.  0.  0.  0.  0.  0.  0.  0.\n",
      "   1.  0.  0.  0.  0.  0.  0.  0.  0.  0.  0.  0.  0.  0.  0.  0.  0.  0.\n",
      "   0.  0.  0.  0.]]\n",
      "(19, 58)\n",
      "(array([0, 1, 2, 3, 4]), array([36, 15, 14,  5, 19]))\n"
     ]
    }
   ],
   "source": [
    "import numpy as np\n",
    "\n",
    "# Find letter index from all_letters, e.g. \"a\" = 1\n",
    "# we'll reserve 0 for padding symbol\n",
    "def letterToIndex(letter):\n",
    "    return all_letters.find(letter) + 1\n",
    "\n",
    "# Just for demonstration, turn a letter into a <1 x n_letters> Tensor\n",
    "def letterToTensor(letter):\n",
    "    tensor = np.zeros(shape=(1, n_letters + 1))\n",
    "    tensor[0][letterToIndex(letter)] = 1\n",
    "    return tensor\n",
    "\n",
    "# Turn a line into a <line_length x 1 x n_letters>,\n",
    "# or an array of one-hot letter vectors\n",
    "def lineToTensor(line, max_length=max_name_length):\n",
    "    tensor = np.zeros(shape=(max_length, n_letters + 1))\n",
    "    for li, letter in enumerate(line):\n",
    "        tensor[li][letterToIndex(letter)] = 1\n",
    "    return tensor\n",
    "\n",
    "print(letterToTensor('J'))\n",
    "\n",
    "print(lineToTensor('Jones').shape)\n",
    "print(np.where(lineToTensor('Jones')))"
   ]
  },
  {
   "cell_type": "code",
   "execution_count": 114,
   "metadata": {
    "collapsed": false
   },
   "outputs": [
    {
     "data": {
      "text/plain": [
       "(20074, 19, 58)"
      ]
     },
     "execution_count": 114,
     "metadata": {},
     "output_type": "execute_result"
    }
   ],
   "source": [
    "training_seqs = np.stack([lineToTensor(name) for name in name_nations.name])\n",
    "training_seqs.shape"
   ]
  },
  {
   "cell_type": "code",
   "execution_count": 116,
   "metadata": {
    "collapsed": false
   },
   "outputs": [
    {
     "name": "stdout",
     "output_type": "stream",
     "text": [
      "[[ 0.  0.  0.  0.  0.  0.  0.  0.  0.  0.  0.  0.  0.  0.  0.  0.  0.  0.\n",
      "   0.]\n",
      " [ 0.  0.  0.  0.  0.  0.  0.  0.  0.  0.  0.  0.  0.  0.  0.  0.  0.  0.\n",
      "   0.]\n",
      " [ 0.  0.  0.  0.  0.  0.  0.  0.  0.  0.  0.  0.  0.  0.  0.  0.  0.  0.\n",
      "   0.]]\n",
      "[[0 0 0 0 0 0 0 0 0 0 1 0 0 0 0 0 0 0]\n",
      " [0 0 0 0 0 0 0 0 0 0 0 0 0 0 1 0 0 0]\n",
      " [0 0 0 0 0 0 0 0 0 0 0 0 0 0 1 0 0 0]]\n"
     ]
    }
   ],
   "source": [
    "seq_length = max_name_length\n",
    "targets = pd.get_dummies(name_nations.y).values\n",
    "\n",
    "print(training_seqs[:3, :, 0])\n",
    "print(targets[:3])"
   ]
  },
  {
   "cell_type": "code",
   "execution_count": 126,
   "metadata": {
    "collapsed": false
   },
   "outputs": [
    {
     "name": "stdout",
     "output_type": "stream",
     "text": [
      "_________________________________________________________________\n",
      "Layer (type)                 Output Shape              Param #   \n",
      "=================================================================\n",
      "simple_rnn_2 (SimpleRNN)     (None, 128)               23936     \n",
      "_________________________________________________________________\n",
      "dense_7 (Dense)              (None, 18)                2322      \n",
      "_________________________________________________________________\n",
      "activation_8 (Activation)    (None, 18)                0         \n",
      "=================================================================\n",
      "Total params: 26,258.0\n",
      "Trainable params: 26,258.0\n",
      "Non-trainable params: 0.0\n",
      "_________________________________________________________________\n"
     ]
    }
   ],
   "source": [
    "from keras.layers.recurrent import LSTM, SimpleRNN\n",
    "from keras.models import Sequential\n",
    "from keras.layers import Dense, Activation\n",
    "from keras.optimizers import Adam\n",
    "\n",
    "num_hidden = 128\n",
    "\n",
    "model = Sequential()\n",
    "model.add(\n",
    "    SimpleRNN(num_hidden, input_shape=(max_name_length, n_letters + 1), \n",
    "         activation='sigmoid'))\n",
    "\n",
    "model.add(Dense(n_categories))\n",
    "\n",
    "model.add(Activation('softmax'))\n",
    "\n",
    "optimizer = Adam(lr=0.005)\n",
    "model.compile(optimizer=optimizer,\n",
    "              loss='categorical_crossentropy',\n",
    "              metrics=['accuracy'])\n",
    "model.summary()"
   ]
  },
  {
   "cell_type": "code",
   "execution_count": 127,
   "metadata": {
    "collapsed": false
   },
   "outputs": [
    {
     "name": "stdout",
     "output_type": "stream",
     "text": [
      "Train on 18066 samples, validate on 2008 samples\n",
      "Epoch 1/100\n",
      "4s - loss: 1.8876 - acc: 0.4606 - val_loss: 1.8253 - val_acc: 0.4861\n",
      "Epoch 2/100\n",
      "2s - loss: 1.8578 - acc: 0.4667 - val_loss: 1.8229 - val_acc: 0.4861\n",
      "Epoch 3/100\n",
      "2s - loss: 1.8579 - acc: 0.4667 - val_loss: 1.8116 - val_acc: 0.4861\n",
      "Epoch 4/100\n",
      "2s - loss: 1.8545 - acc: 0.4667 - val_loss: 1.8152 - val_acc: 0.4861\n",
      "Epoch 5/100\n",
      "2s - loss: 1.8544 - acc: 0.4667 - val_loss: 1.8199 - val_acc: 0.4861\n",
      "Epoch 6/100\n",
      "2s - loss: 1.8535 - acc: 0.4667 - val_loss: 1.8144 - val_acc: 0.4861\n",
      "Epoch 7/100\n",
      "2s - loss: 1.8527 - acc: 0.4667 - val_loss: 1.8184 - val_acc: 0.4861\n",
      "Epoch 8/100\n",
      "2s - loss: 1.8526 - acc: 0.4667 - val_loss: 1.8167 - val_acc: 0.4861\n",
      "Epoch 9/100\n",
      "2s - loss: 1.8213 - acc: 0.4670 - val_loss: 1.8050 - val_acc: 0.4582\n",
      "Epoch 10/100\n",
      "2s - loss: 1.6816 - acc: 0.4973 - val_loss: 1.5510 - val_acc: 0.5329\n",
      "Epoch 11/100\n",
      "2s - loss: 1.5344 - acc: 0.5396 - val_loss: 1.4685 - val_acc: 0.5608\n",
      "Epoch 12/100\n",
      "2s - loss: 1.4902 - acc: 0.5492 - val_loss: 1.5176 - val_acc: 0.5438\n",
      "Epoch 13/100\n",
      "2s - loss: 1.4739 - acc: 0.5540 - val_loss: 1.4814 - val_acc: 0.5493\n",
      "Epoch 14/100\n",
      "2s - loss: 1.4467 - acc: 0.5587 - val_loss: 1.4544 - val_acc: 0.5528\n",
      "Epoch 15/100\n",
      "2s - loss: 1.4456 - acc: 0.5602 - val_loss: 1.4101 - val_acc: 0.5722\n",
      "Epoch 16/100\n",
      "2s - loss: 1.4268 - acc: 0.5691 - val_loss: 1.4258 - val_acc: 0.5662\n",
      "Epoch 17/100\n",
      "2s - loss: 1.4186 - acc: 0.5749 - val_loss: 1.3846 - val_acc: 0.5862\n",
      "Epoch 18/100\n",
      "2s - loss: 1.4085 - acc: 0.5813 - val_loss: 1.3728 - val_acc: 0.5891\n",
      "Epoch 19/100\n",
      "2s - loss: 1.3873 - acc: 0.5938 - val_loss: 1.3648 - val_acc: 0.5966\n",
      "Epoch 20/100\n",
      "2s - loss: 1.3695 - acc: 0.6017 - val_loss: 1.3543 - val_acc: 0.6026\n",
      "Epoch 21/100\n",
      "2s - loss: 1.3737 - acc: 0.6032 - val_loss: 1.3828 - val_acc: 0.5881\n",
      "Epoch 22/100\n",
      "2s - loss: 1.3513 - acc: 0.6108 - val_loss: 1.3299 - val_acc: 0.6175\n",
      "Epoch 23/100\n",
      "2s - loss: 1.3393 - acc: 0.6168 - val_loss: 1.3159 - val_acc: 0.6230\n",
      "Epoch 24/100\n",
      "2s - loss: 1.3198 - acc: 0.6232 - val_loss: 1.3749 - val_acc: 0.6145\n",
      "Epoch 25/100\n",
      "2s - loss: 1.3055 - acc: 0.6280 - val_loss: 1.2831 - val_acc: 0.6310\n",
      "Epoch 26/100\n",
      "2s - loss: 1.2897 - acc: 0.6327 - val_loss: 1.2933 - val_acc: 0.6394\n",
      "Epoch 27/100\n",
      "2s - loss: 1.2930 - acc: 0.6309 - val_loss: 1.2729 - val_acc: 0.6404\n",
      "Epoch 28/100\n",
      "2s - loss: 1.2663 - acc: 0.6389 - val_loss: 1.2549 - val_acc: 0.6439\n",
      "Epoch 29/100\n",
      "2s - loss: 1.2546 - acc: 0.6416 - val_loss: 1.2504 - val_acc: 0.6459\n",
      "Epoch 30/100\n",
      "2s - loss: 1.2382 - acc: 0.6444 - val_loss: 1.3179 - val_acc: 0.6399\n",
      "Epoch 31/100\n",
      "2s - loss: 1.2289 - acc: 0.6491 - val_loss: 1.2208 - val_acc: 0.6484\n",
      "Epoch 32/100\n",
      "2s - loss: 1.2325 - acc: 0.6492 - val_loss: 1.2301 - val_acc: 0.6539\n",
      "Epoch 33/100\n",
      "2s - loss: 1.2138 - acc: 0.6524 - val_loss: 1.2223 - val_acc: 0.6579\n",
      "Epoch 34/100\n",
      "2s - loss: 1.2038 - acc: 0.6561 - val_loss: 1.2445 - val_acc: 0.6619\n",
      "Epoch 35/100\n",
      "2s - loss: 1.1986 - acc: 0.6600 - val_loss: 1.1906 - val_acc: 0.6708\n",
      "Epoch 36/100\n",
      "2s - loss: 1.1811 - acc: 0.6633 - val_loss: 1.2083 - val_acc: 0.6549\n",
      "Epoch 37/100\n",
      "2s - loss: 1.1694 - acc: 0.6666 - val_loss: 1.3319 - val_acc: 0.6096\n",
      "Epoch 38/100\n",
      "2s - loss: 1.1707 - acc: 0.6662 - val_loss: 1.1901 - val_acc: 0.6564\n",
      "Epoch 39/100\n",
      "2s - loss: 1.1596 - acc: 0.6702 - val_loss: 1.2015 - val_acc: 0.6549\n",
      "Epoch 40/100\n",
      "2s - loss: 1.1365 - acc: 0.6772 - val_loss: 1.1847 - val_acc: 0.6619\n",
      "Epoch 41/100\n",
      "2s - loss: 1.1283 - acc: 0.6793 - val_loss: 1.1494 - val_acc: 0.6743\n",
      "Epoch 42/100\n",
      "2s - loss: 1.1357 - acc: 0.6774 - val_loss: 1.1366 - val_acc: 0.6788\n",
      "Epoch 43/100\n",
      "2s - loss: 1.1133 - acc: 0.6830 - val_loss: 1.1485 - val_acc: 0.6882\n",
      "Epoch 44/100\n",
      "2s - loss: 1.1140 - acc: 0.6845 - val_loss: 1.1487 - val_acc: 0.6858\n",
      "Epoch 45/100\n",
      "2s - loss: 1.1121 - acc: 0.6841 - val_loss: 1.1258 - val_acc: 0.6798\n",
      "Epoch 46/100\n",
      "2s - loss: 1.1021 - acc: 0.6857 - val_loss: 1.1516 - val_acc: 0.6882\n",
      "Epoch 47/100\n",
      "2s - loss: 1.0930 - acc: 0.6884 - val_loss: 1.1160 - val_acc: 0.6863\n",
      "Epoch 48/100\n",
      "2s - loss: 1.0718 - acc: 0.6935 - val_loss: 1.1395 - val_acc: 0.6778\n",
      "Epoch 49/100\n",
      "2s - loss: 1.0677 - acc: 0.6953 - val_loss: 1.1687 - val_acc: 0.6743\n",
      "Epoch 50/100\n",
      "2s - loss: 1.0515 - acc: 0.7000 - val_loss: 1.0735 - val_acc: 0.6987\n",
      "Epoch 51/100\n",
      "2s - loss: 1.0406 - acc: 0.7039 - val_loss: 1.1007 - val_acc: 0.6912\n",
      "Epoch 52/100\n",
      "2s - loss: 1.0169 - acc: 0.7086 - val_loss: 1.0607 - val_acc: 0.7047\n",
      "Epoch 53/100\n",
      "2s - loss: 1.0227 - acc: 0.7086 - val_loss: 1.0496 - val_acc: 0.7057\n",
      "Epoch 54/100\n",
      "2s - loss: 0.9926 - acc: 0.7148 - val_loss: 1.0573 - val_acc: 0.7087\n",
      "Epoch 55/100\n",
      "2s - loss: 0.9861 - acc: 0.7169 - val_loss: 1.0469 - val_acc: 0.7092\n",
      "Epoch 56/100\n",
      "2s - loss: 0.9776 - acc: 0.7190 - val_loss: 1.0298 - val_acc: 0.7141\n",
      "Epoch 57/100\n",
      "2s - loss: 0.9629 - acc: 0.7231 - val_loss: 1.0109 - val_acc: 0.7206\n",
      "Epoch 58/100\n",
      "2s - loss: 0.9934 - acc: 0.7153 - val_loss: 1.0238 - val_acc: 0.7206\n",
      "Epoch 59/100\n",
      "2s - loss: 0.9524 - acc: 0.7264 - val_loss: 1.0782 - val_acc: 0.7012\n",
      "Epoch 60/100\n",
      "2s - loss: 0.9680 - acc: 0.7220 - val_loss: 1.0152 - val_acc: 0.7151\n",
      "Epoch 61/100\n",
      "2s - loss: 0.9316 - acc: 0.7312 - val_loss: 1.0117 - val_acc: 0.7186\n",
      "Epoch 62/100\n",
      "2s - loss: 0.9317 - acc: 0.7329 - val_loss: 1.0185 - val_acc: 0.7206\n",
      "Epoch 63/100\n",
      "2s - loss: 0.9217 - acc: 0.7362 - val_loss: 1.0016 - val_acc: 0.7231\n",
      "Epoch 64/100\n",
      "2s - loss: 0.9312 - acc: 0.7340 - val_loss: 0.9956 - val_acc: 0.7201\n",
      "Epoch 65/100\n",
      "2s - loss: 0.9084 - acc: 0.7392 - val_loss: 0.9792 - val_acc: 0.7251\n",
      "Epoch 66/100\n",
      "2s - loss: 0.9034 - acc: 0.7408 - val_loss: 0.9766 - val_acc: 0.7301\n",
      "Epoch 67/100\n",
      "2s - loss: 0.9006 - acc: 0.7385 - val_loss: 0.9964 - val_acc: 0.7261\n",
      "Epoch 68/100\n",
      "2s - loss: 0.8912 - acc: 0.7441 - val_loss: 0.9620 - val_acc: 0.7301\n",
      "Epoch 69/100\n",
      "2s - loss: 0.8850 - acc: 0.7450 - val_loss: 0.9746 - val_acc: 0.7321\n",
      "Epoch 70/100\n",
      "2s - loss: 0.8698 - acc: 0.7485 - val_loss: 0.9683 - val_acc: 0.7331\n",
      "Epoch 71/100\n",
      "2s - loss: 0.8782 - acc: 0.7465 - val_loss: 0.9938 - val_acc: 0.7216\n",
      "Epoch 72/100\n",
      "2s - loss: 0.8687 - acc: 0.7489 - val_loss: 0.9613 - val_acc: 0.7286\n",
      "Epoch 73/100\n",
      "2s - loss: 0.8734 - acc: 0.7436 - val_loss: 0.9671 - val_acc: 0.7326\n",
      "Epoch 74/100\n",
      "2s - loss: 0.8435 - acc: 0.7562 - val_loss: 0.9818 - val_acc: 0.7316\n",
      "Epoch 75/100\n",
      "2s - loss: 0.8363 - acc: 0.7569 - val_loss: 0.9553 - val_acc: 0.7395\n",
      "Epoch 76/100\n",
      "2s - loss: 0.8720 - acc: 0.7484 - val_loss: 0.9699 - val_acc: 0.7256\n",
      "Epoch 77/100\n",
      "2s - loss: 0.8421 - acc: 0.7563 - val_loss: 0.9484 - val_acc: 0.7336\n",
      "Epoch 78/100\n",
      "2s - loss: 0.8239 - acc: 0.7610 - val_loss: 0.9460 - val_acc: 0.7336\n",
      "Epoch 79/100\n",
      "2s - loss: 0.8196 - acc: 0.7607 - val_loss: 0.9492 - val_acc: 0.7306\n",
      "Epoch 80/100\n",
      "2s - loss: 0.8140 - acc: 0.7634 - val_loss: 0.9388 - val_acc: 0.7341\n",
      "Epoch 81/100\n",
      "2s - loss: 0.8214 - acc: 0.7604 - val_loss: 0.9440 - val_acc: 0.7366\n",
      "Epoch 82/100\n",
      "2s - loss: 0.8025 - acc: 0.7655 - val_loss: 0.9840 - val_acc: 0.7311\n",
      "Epoch 83/100\n",
      "2s - loss: 0.7925 - acc: 0.7676 - val_loss: 0.9615 - val_acc: 0.7366\n",
      "Epoch 84/100\n",
      "2s - loss: 0.7793 - acc: 0.7713 - val_loss: 0.9480 - val_acc: 0.7331\n",
      "Epoch 85/100\n",
      "2s - loss: 0.7854 - acc: 0.7696 - val_loss: 0.9400 - val_acc: 0.7385\n",
      "Epoch 86/100\n",
      "2s - loss: 0.7903 - acc: 0.7696 - val_loss: 0.9582 - val_acc: 0.7326\n",
      "Epoch 87/100\n",
      "2s - loss: 0.7645 - acc: 0.7760 - val_loss: 0.9649 - val_acc: 0.7371\n",
      "Epoch 88/100\n",
      "2s - loss: 0.7655 - acc: 0.7763 - val_loss: 0.9544 - val_acc: 0.7311\n",
      "Epoch 89/100\n",
      "2s - loss: 0.7595 - acc: 0.7767 - val_loss: 0.9656 - val_acc: 0.7326\n",
      "Epoch 90/100\n",
      "2s - loss: 0.7808 - acc: 0.7721 - val_loss: 0.9509 - val_acc: 0.7435\n",
      "Epoch 91/100\n",
      "2s - loss: 0.7442 - acc: 0.7777 - val_loss: 0.9605 - val_acc: 0.7375\n",
      "Epoch 92/100\n",
      "2s - loss: 0.7479 - acc: 0.7791 - val_loss: 0.9479 - val_acc: 0.7331\n",
      "Epoch 93/100\n",
      "2s - loss: 0.7404 - acc: 0.7824 - val_loss: 0.9796 - val_acc: 0.7371\n",
      "Epoch 94/100\n",
      "2s - loss: 0.7327 - acc: 0.7840 - val_loss: 0.9548 - val_acc: 0.7400\n",
      "Epoch 95/100\n",
      "2s - loss: 0.7223 - acc: 0.7866 - val_loss: 0.9616 - val_acc: 0.7361\n",
      "Epoch 96/100\n",
      "2s - loss: 0.7190 - acc: 0.7859 - val_loss: 0.9628 - val_acc: 0.7470\n",
      "Epoch 97/100\n",
      "2s - loss: 0.7178 - acc: 0.7884 - val_loss: 0.9520 - val_acc: 0.7405\n",
      "Epoch 98/100\n",
      "2s - loss: 0.7169 - acc: 0.7873 - val_loss: 0.9629 - val_acc: 0.7495\n",
      "Epoch 99/100\n",
      "2s - loss: 0.7308 - acc: 0.7851 - val_loss: 0.9776 - val_acc: 0.7430\n",
      "Epoch 100/100\n",
      "2s - loss: 0.7152 - acc: 0.7894 - val_loss: 0.9440 - val_acc: 0.7525\n"
     ]
    },
    {
     "data": {
      "text/plain": [
       "<keras.callbacks.History at 0x130931f28>"
      ]
     },
     "execution_count": 127,
     "metadata": {},
     "output_type": "execute_result"
    }
   ],
   "source": [
    "fit_logs = model.fit(\n",
    "    training_seqs, targets, batch_size=128, epochs=100, verbose=2, validation_split=.1)"
   ]
  },
  {
   "cell_type": "code",
   "execution_count": 162,
   "metadata": {
    "collapsed": false
   },
   "outputs": [
    {
     "data": {
      "image/png": "[encoded data removed]",
      "text/plain": [
       "<matplotlib.figure.Figure at 0x130b3b128>"
      ]
     },
     "metadata": {},
     "output_type": "display_data"
    }
   ],
   "source": [
    "import matplotlib.pyplot as plt\n",
    "%matplotlib inline\n",
    "\n",
    "\n",
    "plt.figure(figsize=(12, 6))\n",
    "plt.plot(fit_logs.history['val_acc'], label='val_acc')\n",
    "plt.plot(fit_logs.history['acc'], label='train_acc')\n",
    "plt.legend();\n"
   ]
  },
  {
   "cell_type": "code",
   "execution_count": 139,
   "metadata": {
    "collapsed": false
   },
   "outputs": [
    {
     "data": {
      "image/png": "[encoded data removed]",
      "text/plain": [
       "<matplotlib.figure.Figure at 0x130931f60>"
      ]
     },
     "metadata": {},
     "output_type": "display_data"
    }
   ],
   "source": [
    "import matplotlib.pyplot as plt\n",
    "import matplotlib.ticker as ticker\n",
    "%matplotlib inline\n",
    "\n",
    "# Keep track of correct guesses in a confusion matrix\n",
    "confusion = np.zeros((n_categories, n_categories))\n",
    "\n",
    "predicted_targets = model.predict(training_seqs, verbose=0)\n",
    "\n",
    "for target_index, predicted_index in zip(targets.argmax(axis=1), predicted_targets.argmax(axis=1)):\n",
    "    confusion[target_index][predicted_index] += 1\n",
    "\n",
    "row_normalised_confusion = (confusion / confusion.sum(axis=1))\n",
    "\n",
    "# Set up plot\n",
    "fig = plt.figure()\n",
    "ax = fig.add_subplot(111)\n",
    "cax = ax.matshow(row_normalised_confusion)\n",
    "fig.colorbar(cax)\n",
    "\n",
    "# Set up axes\n",
    "ax.set_xticklabels([''] + all_categories, rotation=90)\n",
    "ax.set_yticklabels([''] + all_categories)\n",
    "\n",
    "# Force label at every tick\n",
    "ax.xaxis.set_major_locator(ticker.MultipleLocator(1))\n",
    "ax.yaxis.set_major_locator(ticker.MultipleLocator(1))\n",
    "\n",
    "plt.show()"
   ]
  },
  {
   "cell_type": "code",
   "execution_count": 163,
   "metadata": {
    "collapsed": false
   },
   "outputs": [
    {
     "name": "stdout",
     "output_type": "stream",
     "text": [
      "0.789229849557\n"
     ]
    }
   ],
   "source": [
    "print(confusion.diagonal().sum() / confusion.sum())"
   ]
  },
  {
   "cell_type": "code",
   "execution_count": 133,
   "metadata": {
    "collapsed": false
   },
   "outputs": [],
   "source": [
    "def predict_nationality(name):\n",
    "    result = model.predict(np.array([lineToTensor(name)]), verbose=0)\n",
    "    return np.argmax(result), name_nations.nation.cat.categories[np.argmax(result)]"
   ]
  },
  {
   "cell_type": "code",
   "execution_count": 134,
   "metadata": {
    "collapsed": false
   },
   "outputs": [
    {
     "data": {
      "text/plain": [
       "(4, 'English')"
      ]
     },
     "execution_count": 134,
     "metadata": {},
     "output_type": "execute_result"
    }
   ],
   "source": [
    "predict_nationality(\"Rochefort\")"
   ]
  },
  {
   "cell_type": "code",
   "execution_count": 135,
   "metadata": {
    "collapsed": false
   },
   "outputs": [
    {
     "data": {
      "text/plain": [
       "(4, 'English')"
      ]
     },
     "execution_count": 135,
     "metadata": {},
     "output_type": "execute_result"
    }
   ],
   "source": [
    "predict_nationality(\"Kon\")"
   ]
  },
  {
   "cell_type": "code",
   "execution_count": 136,
   "metadata": {
    "collapsed": false
   },
   "outputs": [
    {
     "data": {
      "text/plain": [
       "(10, 'Japanese')"
      ]
     },
     "execution_count": 136,
     "metadata": {},
     "output_type": "execute_result"
    }
   ],
   "source": [
    "predict_nationality(\"Satoshi\")"
   ]
  },
  {
   "cell_type": "code",
   "execution_count": 137,
   "metadata": {
    "collapsed": false
   },
   "outputs": [
    {
     "data": {
      "text/plain": [
       "(14, 'Russian')"
      ]
     },
     "execution_count": 137,
     "metadata": {},
     "output_type": "execute_result"
    }
   ],
   "source": [
    "predict_nationality(\"Soldatov\")"
   ]
  },
  {
   "cell_type": "code",
   "execution_count": 138,
   "metadata": {
    "collapsed": false
   },
   "outputs": [
    {
     "data": {
      "text/plain": [
       "(10, 'Japanese')"
      ]
     },
     "execution_count": 138,
     "metadata": {},
     "output_type": "execute_result"
    }
   ],
   "source": [
    "predict_nationality(\"Satoshi\")"
   ]
  },
  {
   "cell_type": "code",
   "execution_count": 142,
   "metadata": {
    "collapsed": false
   },
   "outputs": [
    {
     "data": {
      "text/plain": [
       "(14, 'Russian')"
      ]
     },
     "execution_count": 142,
     "metadata": {},
     "output_type": "execute_result"
    }
   ],
   "source": [
    "predict_nationality(\"Infante\")"
   ]
  },
  {
   "cell_type": "code",
   "execution_count": 161,
   "metadata": {
    "collapsed": false
   },
   "outputs": [
    {
     "data": {
      "text/html": [
       "<div>\n",
       "<table border=\"1\" class=\"dataframe\">\n",
       "  <thead>\n",
       "    <tr style=\"text-align: right;\">\n",
       "      <th></th>\n",
       "      <th>Arabic</th>\n",
       "      <th>Chinese</th>\n",
       "      <th>Czech</th>\n",
       "      <th>Dutch</th>\n",
       "      <th>English</th>\n",
       "      <th>French</th>\n",
       "      <th>German</th>\n",
       "      <th>Greek</th>\n",
       "      <th>Irish</th>\n",
       "      <th>Italian</th>\n",
       "      <th>Japanese</th>\n",
       "      <th>Korean</th>\n",
       "      <th>Polish</th>\n",
       "      <th>Portuguese</th>\n",
       "      <th>Russian</th>\n",
       "      <th>Scottish</th>\n",
       "      <th>Spanish</th>\n",
       "      <th>Vietnamese</th>\n",
       "    </tr>\n",
       "  </thead>\n",
       "  <tbody>\n",
       "    <tr>\n",
       "      <th>0</th>\n",
       "      <td>0.000018</td>\n",
       "      <td>0.579769</td>\n",
       "      <td>0.008181</td>\n",
       "      <td>0.006927</td>\n",
       "      <td>0.053793</td>\n",
       "      <td>0.007551</td>\n",
       "      <td>0.011769</td>\n",
       "      <td>0.00334</td>\n",
       "      <td>0.003083</td>\n",
       "      <td>0.012503</td>\n",
       "      <td>0.003949</td>\n",
       "      <td>0.13003</td>\n",
       "      <td>0.002718</td>\n",
       "      <td>0.001195</td>\n",
       "      <td>0.052063</td>\n",
       "      <td>0.004058</td>\n",
       "      <td>0.007593</td>\n",
       "      <td>0.11146</td>\n",
       "    </tr>\n",
       "  </tbody>\n",
       "</table>\n",
       "</div>"
      ],
      "text/plain": [
       "     Arabic   Chinese     Czech     Dutch   English    French    German  \\\n",
       "0  0.000018  0.579769  0.008181  0.006927  0.053793  0.007551  0.011769   \n",
       "\n",
       "     Greek     Irish   Italian  Japanese   Korean    Polish  Portuguese  \\\n",
       "0  0.00334  0.003083  0.012503  0.003949  0.13003  0.002718    0.001195   \n",
       "\n",
       "    Russian  Scottish   Spanish  Vietnamese  \n",
       "0  0.052063  0.004058  0.007593     0.11146  "
      ]
     },
     "execution_count": 161,
     "metadata": {},
     "output_type": "execute_result"
    }
   ],
   "source": [
    "model.weights[-1]\n",
    "\n",
    "pd.DataFrame(\n",
    "    model.predict(np.zeros(shape=(1, 19, 58))),\n",
    "    columns=name_nations.nation.cat.categories\n",
    ")\n",
    "\n"
   ]
  }
 ],
 "metadata": {
  "anaconda-cloud": {},
  "kernelspec": {
   "display_name": "Python 3",
   "language": "python",
   "name": "python3"
  },
  "language_info": {
   "codemirror_mode": {
    "name": "ipython",
    "version": 3
   },
   "file_extension": ".py",
   "mimetype": "text/x-python",
   "name": "python",
   "nbconvert_exporter": "python",
   "pygments_lexer": "ipython3",
   "version": "3.6.0"
  }
 },
 "nbformat": 4,
 "nbformat_minor": 1
}
