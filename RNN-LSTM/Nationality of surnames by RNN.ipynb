{
 "cells": [
  {
   "cell_type": "markdown",
   "metadata": {},
   "source": [
    "# Categorize nationality of last names by RNN\n",
    "\n",
    "From http://pytorch.org/tutorials/intermediate/char_rnn_classification_tutorial.html"
   ]
  },
  {
   "cell_type": "code",
   "execution_count": 121,
   "metadata": {
    "collapsed": false
   },
   "outputs": [
    {
     "data": {
      "text/plain": [
       "('2.0.2', '1.0.0')"
      ]
     },
     "execution_count": 121,
     "metadata": {},
     "output_type": "execute_result"
    }
   ],
   "source": [
    "import tensorflow as tf\n",
    "import keras\n",
    "sess = tf.InteractiveSession()\n",
    "\n",
    "keras.__version__, tf.__version__"
   ]
  },
  {
   "cell_type": "code",
   "execution_count": 9,
   "metadata": {
    "collapsed": false
   },
   "outputs": [
    {
     "name": "stdout",
     "output_type": "stream",
     "text": [
      "--2017-03-31 14:38:45--  https://download.pytorch.org/tutorial/data.zip\n",
      "Resolving download.pytorch.org... 13.32.176.115, 13.32.176.191, 13.32.176.164, ...\n",
      "Connecting to download.pytorch.org|13.32.176.115|:443... connected.\n",
      "HTTP request sent, awaiting response... 200 OK\n",
      "Length: 2882130 (2.7M) [application/zip]\n",
      "Saving to: 'data.zip.2'\n",
      "\n",
      "data.zip.2          100%[=====================>]   2.75M  6.43MB/s   in 0.4s   \n",
      "\n",
      "2017-03-31 14:38:46 (6.43 MB/s) - 'data.zip.2' saved [2882130/2882130]\n",
      "\n",
      "Archive:  data.zip\n",
      "   creating: data/\n",
      "  inflating: data/eng-fra.txt        \n",
      "   creating: data/names/\n",
      "  inflating: data/names/Arabic.txt   \n",
      "  inflating: data/names/Chinese.txt  \n",
      "  inflating: data/names/Czech.txt    \n",
      "  inflating: data/names/Dutch.txt    \n",
      "  inflating: data/names/English.txt  \n",
      "  inflating: data/names/French.txt   \n",
      "  inflating: data/names/German.txt   \n",
      "  inflating: data/names/Greek.txt    \n",
      "  inflating: data/names/Irish.txt    \n",
      "  inflating: data/names/Italian.txt  \n",
      "  inflating: data/names/Japanese.txt  \n",
      "  inflating: data/names/Korean.txt   \n",
      "  inflating: data/names/Polish.txt   \n",
      "  inflating: data/names/Portuguese.txt  \n",
      "  inflating: data/names/Russian.txt  \n",
      "  inflating: data/names/Scottish.txt  \n",
      "  inflating: data/names/Spanish.txt  \n",
      "  inflating: data/names/Vietnamese.txt  \n",
      "eng-fra.txt \u001b[34mnames\u001b[m\u001b[m\n"
     ]
    }
   ],
   "source": [
    "! wget https://download.pytorch.org/tutorial/data.zip\n",
    "! rm -R data\n",
    "! unzip data.zip\n",
    "! ls data"
   ]
  },
  {
   "cell_type": "code",
   "execution_count": 10,
   "metadata": {
    "collapsed": false
   },
   "outputs": [
    {
     "name": "stdout",
     "output_type": "stream",
     "text": [
      "['data/names/Arabic.txt', 'data/names/Chinese.txt', 'data/names/Czech.txt', 'data/names/Dutch.txt', 'data/names/English.txt', 'data/names/French.txt', 'data/names/German.txt', 'data/names/Greek.txt', 'data/names/Irish.txt', 'data/names/Italian.txt', 'data/names/Japanese.txt', 'data/names/Korean.txt', 'data/names/Polish.txt', 'data/names/Portuguese.txt', 'data/names/Russian.txt', 'data/names/Scottish.txt', 'data/names/Spanish.txt', 'data/names/Vietnamese.txt']\n",
      "Slusarski\n"
     ]
    }
   ],
   "source": [
    "import glob\n",
    "\n",
    "def findFiles(path): return glob.glob(path)\n",
    "\n",
    "print(findFiles('data/names/*.txt'))\n",
    "\n",
    "import unicodedata\n",
    "import string\n",
    "\n",
    "all_letters = string.ascii_letters + \" .,;'\"\n",
    "n_letters = len(all_letters)\n",
    "\n",
    "# Turn a Unicode string to plain ASCII, thanks to http://stackoverflow.com/a/518232/2809427\n",
    "def unicodeToAscii(s):\n",
    "    return ''.join(\n",
    "        c for c in unicodedata.normalize('NFD', s)\n",
    "        if unicodedata.category(c) != 'Mn'\n",
    "        and c in all_letters\n",
    "    )\n",
    "\n",
    "print(unicodeToAscii('Ślusàrski'))"
   ]
  },
  {
   "cell_type": "code",
   "execution_count": 11,
   "metadata": {
    "collapsed": false
   },
   "outputs": [
    {
     "data": {
      "text/plain": [
       "18"
      ]
     },
     "execution_count": 11,
     "metadata": {},
     "output_type": "execute_result"
    }
   ],
   "source": [
    "# Build the category_lines dictionary, a list of names per language\n",
    "category_lines = {}\n",
    "all_categories = []\n",
    "\n",
    "# Read a file and split into lines\n",
    "def readLines(filename):\n",
    "    lines = open(filename).read().strip().split('\\n')\n",
    "    return [unicodeToAscii(line) for line in lines]\n",
    "\n",
    "for filename in findFiles('data/names/*.txt'):\n",
    "    category = filename.split('/')[-1].split('.')[0]\n",
    "    all_categories.append(category)\n",
    "    lines = readLines(filename)\n",
    "    category_lines[category] = lines\n",
    "\n",
    "n_categories = len(all_categories)\n",
    "n_categories"
   ]
  },
  {
   "cell_type": "code",
   "execution_count": 392,
   "metadata": {
    "collapsed": false
   },
   "outputs": [
    {
     "name": "stdout",
     "output_type": "stream",
     "text": [
      "Index(['Arabic', 'Chinese', 'Czech', 'Dutch', 'English', 'French', 'German',\n",
      "       'Greek', 'Irish', 'Italian', 'Japanese', 'Korean', 'Polish',\n",
      "       'Portuguese', 'Russian', 'Scottish', 'Spanish', 'Vietnamese'],\n",
      "      dtype='object')\n"
     ]
    },
    {
     "data": {
      "text/html": [
       "<div>\n",
       "<table border=\"1\" class=\"dataframe\">\n",
       "  <thead>\n",
       "    <tr style=\"text-align: right;\">\n",
       "      <th></th>\n",
       "      <th>nation</th>\n",
       "      <th>name</th>\n",
       "      <th>y</th>\n",
       "    </tr>\n",
       "  </thead>\n",
       "  <tbody>\n",
       "    <tr>\n",
       "      <th>3568</th>\n",
       "      <td>English</td>\n",
       "      <td>Clifton</td>\n",
       "      <td>4</td>\n",
       "    </tr>\n",
       "    <tr>\n",
       "      <th>6231</th>\n",
       "      <td>English</td>\n",
       "      <td>Swann</td>\n",
       "      <td>4</td>\n",
       "    </tr>\n",
       "    <tr>\n",
       "      <th>4457</th>\n",
       "      <td>English</td>\n",
       "      <td>Guest</td>\n",
       "      <td>4</td>\n",
       "    </tr>\n",
       "    <tr>\n",
       "      <th>4125</th>\n",
       "      <td>English</td>\n",
       "      <td>Fenlon</td>\n",
       "      <td>4</td>\n",
       "    </tr>\n",
       "    <tr>\n",
       "      <th>9840</th>\n",
       "      <td>Japanese</td>\n",
       "      <td>Yamaguchiya</td>\n",
       "      <td>10</td>\n",
       "    </tr>\n",
       "    <tr>\n",
       "      <th>9345</th>\n",
       "      <td>Japanese</td>\n",
       "      <td>Masudu</td>\n",
       "      <td>10</td>\n",
       "    </tr>\n",
       "    <tr>\n",
       "      <th>19114</th>\n",
       "      <td>Russian</td>\n",
       "      <td>Yuzhanov</td>\n",
       "      <td>14</td>\n",
       "    </tr>\n",
       "    <tr>\n",
       "      <th>107</th>\n",
       "      <td>Arabic</td>\n",
       "      <td>Baba</td>\n",
       "      <td>0</td>\n",
       "    </tr>\n",
       "    <tr>\n",
       "      <th>17997</th>\n",
       "      <td>Russian</td>\n",
       "      <td>Tupalo</td>\n",
       "      <td>14</td>\n",
       "    </tr>\n",
       "    <tr>\n",
       "      <th>15245</th>\n",
       "      <td>Russian</td>\n",
       "      <td>Likhovskikh</td>\n",
       "      <td>14</td>\n",
       "    </tr>\n",
       "  </tbody>\n",
       "</table>\n",
       "</div>"
      ],
      "text/plain": [
       "         nation         name   y\n",
       "3568    English      Clifton   4\n",
       "6231    English        Swann   4\n",
       "4457    English        Guest   4\n",
       "4125    English       Fenlon   4\n",
       "9840   Japanese  Yamaguchiya  10\n",
       "9345   Japanese       Masudu  10\n",
       "19114   Russian     Yuzhanov  14\n",
       "107      Arabic         Baba   0\n",
       "17997   Russian       Tupalo  14\n",
       "15245   Russian  Likhovskikh  14"
      ]
     },
     "execution_count": 392,
     "metadata": {},
     "output_type": "execute_result"
    }
   ],
   "source": [
    "import pandas as pd\n",
    "\n",
    "name_nations = pd.DataFrame([\n",
    "    (nation,name)\n",
    "    for nation, list_of_names in category_lines.items()\n",
    "    for name in list_of_names], columns=['nation', 'name']\n",
    ")\n",
    "\n",
    "name_nations = name_nations\\\n",
    "    .assign(nation=lambda df: df.nation.astype('category'))\\\n",
    "    .assign(y=lambda df: df.nation.cat.codes\n",
    ")\n",
    "\n",
    "original_name_nations = name_nations.copy()\n",
    "\n",
    "print(name_nations.nation.cat.categories)\n",
    "\n",
    "name_nations = name_nations.sample(n=name_nations.shape[0])\n",
    "\n",
    "name_nations.head(10)"
   ]
  },
  {
   "cell_type": "code",
   "execution_count": 113,
   "metadata": {
    "collapsed": false
   },
   "outputs": [
    {
     "name": "stdout",
     "output_type": "stream",
     "text": [
      "[[ 0.  0.  0.  0.  0.  0.  0.  0.  0.  0.  0.  0.  0.  0.  0.  0.  0.  0.\n",
      "   0.  0.  0.  0.  0.  0.  0.  0.  0.  0.  0.  0.  0.  0.  0.  0.  0.  0.\n",
      "   1.  0.  0.  0.  0.  0.  0.  0.  0.  0.  0.  0.  0.  0.  0.  0.  0.  0.\n",
      "   0.  0.  0.  0.]]\n",
      "(19, 58)\n",
      "(array([0, 1, 2, 3, 4]), array([36, 15, 14,  5, 19]))\n"
     ]
    }
   ],
   "source": [
    "import numpy as np\n",
    "\n",
    "# Find letter index from all_letters, e.g. \"a\" = 1\n",
    "# we'll reserve 0 for padding symbol\n",
    "def letterToIndex(letter):\n",
    "    return all_letters.find(letter) + 1\n",
    "\n",
    "# Just for demonstration, turn a letter into a <1 x n_letters> Tensor\n",
    "def letterToTensor(letter):\n",
    "    tensor = np.zeros(shape=(1, n_letters + 1))\n",
    "    tensor[0][letterToIndex(letter)] = 1\n",
    "    return tensor\n",
    "\n",
    "# Turn a line into a <line_length x 1 x n_letters>,\n",
    "# or an array of one-hot letter vectors\n",
    "def lineToTensor(line, max_length=max_name_length):\n",
    "    tensor = np.zeros(shape=(max_length, n_letters + 1))\n",
    "    for li, letter in enumerate(line):\n",
    "        tensor[li][letterToIndex(letter)] = 1\n",
    "    return tensor\n",
    "\n",
    "print(letterToTensor('J'))\n",
    "\n",
    "print(lineToTensor('Jones').shape)\n",
    "print(np.where(lineToTensor('Jones')))"
   ]
  },
  {
   "cell_type": "markdown",
   "metadata": {},
   "source": [
    "## Fighting the dataset imbalance by sampling"
   ]
  },
  {
   "cell_type": "code",
   "execution_count": 395,
   "metadata": {
    "collapsed": false
   },
   "outputs": [
    {
     "data": {
      "text/html": [
       "<div>\n",
       "<table border=\"1\" class=\"dataframe\">\n",
       "  <thead>\n",
       "    <tr style=\"text-align: right;\">\n",
       "      <th></th>\n",
       "      <th>count</th>\n",
       "    </tr>\n",
       "    <tr>\n",
       "      <th>nation</th>\n",
       "      <th></th>\n",
       "    </tr>\n",
       "  </thead>\n",
       "  <tbody>\n",
       "    <tr>\n",
       "      <th>Russian</th>\n",
       "      <td>9408</td>\n",
       "    </tr>\n",
       "    <tr>\n",
       "      <th>English</th>\n",
       "      <td>3668</td>\n",
       "    </tr>\n",
       "    <tr>\n",
       "      <th>Arabic</th>\n",
       "      <td>2000</td>\n",
       "    </tr>\n",
       "    <tr>\n",
       "      <th>Japanese</th>\n",
       "      <td>991</td>\n",
       "    </tr>\n",
       "    <tr>\n",
       "      <th>German</th>\n",
       "      <td>724</td>\n",
       "    </tr>\n",
       "    <tr>\n",
       "      <th>Italian</th>\n",
       "      <td>709</td>\n",
       "    </tr>\n",
       "    <tr>\n",
       "      <th>Czech</th>\n",
       "      <td>519</td>\n",
       "    </tr>\n",
       "    <tr>\n",
       "      <th>Spanish</th>\n",
       "      <td>298</td>\n",
       "    </tr>\n",
       "    <tr>\n",
       "      <th>Dutch</th>\n",
       "      <td>297</td>\n",
       "    </tr>\n",
       "    <tr>\n",
       "      <th>French</th>\n",
       "      <td>277</td>\n",
       "    </tr>\n",
       "    <tr>\n",
       "      <th>Chinese</th>\n",
       "      <td>268</td>\n",
       "    </tr>\n",
       "    <tr>\n",
       "      <th>Irish</th>\n",
       "      <td>232</td>\n",
       "    </tr>\n",
       "    <tr>\n",
       "      <th>Greek</th>\n",
       "      <td>203</td>\n",
       "    </tr>\n",
       "    <tr>\n",
       "      <th>Polish</th>\n",
       "      <td>139</td>\n",
       "    </tr>\n",
       "    <tr>\n",
       "      <th>Scottish</th>\n",
       "      <td>100</td>\n",
       "    </tr>\n",
       "    <tr>\n",
       "      <th>Korean</th>\n",
       "      <td>94</td>\n",
       "    </tr>\n",
       "    <tr>\n",
       "      <th>Portuguese</th>\n",
       "      <td>74</td>\n",
       "    </tr>\n",
       "    <tr>\n",
       "      <th>Vietnamese</th>\n",
       "      <td>73</td>\n",
       "    </tr>\n",
       "  </tbody>\n",
       "</table>\n",
       "</div>"
      ],
      "text/plain": [
       "            count\n",
       "nation           \n",
       "Russian      9408\n",
       "English      3668\n",
       "Arabic       2000\n",
       "Japanese      991\n",
       "German        724\n",
       "Italian       709\n",
       "Czech         519\n",
       "Spanish       298\n",
       "Dutch         297\n",
       "French        277\n",
       "Chinese       268\n",
       "Irish         232\n",
       "Greek         203\n",
       "Polish        139\n",
       "Scottish      100\n",
       "Korean         94\n",
       "Portuguese     74\n",
       "Vietnamese     73"
      ]
     },
     "execution_count": 395,
     "metadata": {},
     "output_type": "execute_result"
    }
   ],
   "source": [
    "name_nations.groupby('nation').size().to_frame('count').sort_values('count', ascending=False)"
   ]
  },
  {
   "cell_type": "code",
   "execution_count": 394,
   "metadata": {
    "collapsed": false
   },
   "outputs": [
    {
     "data": {
      "text/plain": [
       "name\n",
       "Abello            [Spanish, Italian]\n",
       "Abraham            [English, French]\n",
       "Abreu          [Portuguese, Spanish]\n",
       "Adams             [English, Russian]\n",
       "Adamson           [English, Russian]\n",
       "Aitken           [Scottish, English]\n",
       "Albuquerque    [Portuguese, Spanish]\n",
       "Alexander        [English, Scottish]\n",
       "Allan            [English, Scottish]\n",
       "Allard             [English, French]\n",
       "Name: nation, dtype: object"
      ]
     },
     "execution_count": 394,
     "metadata": {},
     "output_type": "execute_result"
    }
   ],
   "source": [
    "name_counts = name_nations.groupby('name').nation.apply(list)\n",
    "name_counts[name_counts.apply(len) == 2].head(10)"
   ]
  },
  {
   "cell_type": "code",
   "execution_count": 297,
   "metadata": {
    "collapsed": false
   },
   "outputs": [
    {
     "data": {
      "text/plain": [
       "nation\n",
       "Arabic        8000\n",
       "Chinese       8000\n",
       "Czech         8000\n",
       "Dutch         8000\n",
       "English       8000\n",
       "French        8000\n",
       "German        8000\n",
       "Greek         8000\n",
       "Irish         8000\n",
       "Italian       8000\n",
       "Japanese      8000\n",
       "Korean        8000\n",
       "Polish        8000\n",
       "Portuguese    8000\n",
       "Russian       8000\n",
       "Scottish      8000\n",
       "Spanish       8000\n",
       "Vietnamese    8000\n",
       "dtype: int64"
      ]
     },
     "execution_count": 297,
     "metadata": {},
     "output_type": "execute_result"
    }
   ],
   "source": [
    "n_samples_per_nation = 8000\n",
    "\n",
    "balanced_name_nations = pd.concat([\n",
    "    name_nations.query('nation == \"{}\"'.format(n)).sample(n_samples_per_nation, replace=True)\n",
    "    for n in name_nations.nation.unique()\n",
    "])\n",
    "\n",
    "balanced_name_nations.groupby('nation').size()"
   ]
  },
  {
   "cell_type": "code",
   "execution_count": 298,
   "metadata": {
    "collapsed": false
   },
   "outputs": [
    {
     "data": {
      "text/plain": [
       "(144000, 19, 58)"
      ]
     },
     "execution_count": 298,
     "metadata": {},
     "output_type": "execute_result"
    }
   ],
   "source": [
    "name_nations = balanced_name_nations\n",
    "\n",
    "training_seqs = np.stack([lineToTensor(name) for name in name_nations.name])\n",
    "training_seqs.shape"
   ]
  },
  {
   "cell_type": "code",
   "execution_count": 299,
   "metadata": {
    "collapsed": false
   },
   "outputs": [
    {
     "name": "stdout",
     "output_type": "stream",
     "text": [
      "[[ 0.  0.  0.  0.  0.  0.  0.  0.  0.  0.  0.  0.  0.  0.  0.  0.  0.  0.\n",
      "   0.]\n",
      " [ 0.  0.  0.  0.  0.  0.  0.  0.  0.  0.  0.  0.  0.  0.  0.  0.  0.  0.\n",
      "   0.]\n",
      " [ 0.  0.  0.  0.  0.  0.  0.  0.  0.  0.  0.  0.  0.  0.  0.  0.  0.  0.\n",
      "   0.]]\n",
      "[[0 0 0 0 1 0 0 0 0 0 0 0 0 0 0 0 0 0]\n",
      " [0 0 0 0 1 0 0 0 0 0 0 0 0 0 0 0 0 0]\n",
      " [0 0 0 0 1 0 0 0 0 0 0 0 0 0 0 0 0 0]]\n"
     ]
    }
   ],
   "source": [
    "seq_length = max_name_length\n",
    "targets = pd.get_dummies(name_nations.y).values\n",
    "\n",
    "print(training_seqs[:3, :, 0])\n",
    "print(targets[:3])"
   ]
  },
  {
   "cell_type": "code",
   "execution_count": 300,
   "metadata": {
    "collapsed": false
   },
   "outputs": [
    {
     "name": "stdout",
     "output_type": "stream",
     "text": [
      "_________________________________________________________________\n",
      "Layer (type)                 Output Shape              Param #   \n",
      "=================================================================\n",
      "simple_rnn_3 (SimpleRNN)     (None, 128)               23936     \n",
      "_________________________________________________________________\n",
      "dense_15 (Dense)             (None, 18)                2322      \n",
      "_________________________________________________________________\n",
      "activation_10 (Activation)   (None, 18)                0         \n",
      "=================================================================\n",
      "Total params: 26,258.0\n",
      "Trainable params: 26,258.0\n",
      "Non-trainable params: 0.0\n",
      "_________________________________________________________________\n"
     ]
    }
   ],
   "source": [
    "from keras.layers.recurrent import LSTM, SimpleRNN\n",
    "from keras.models import Sequential\n",
    "from keras.layers import Dense, Activation\n",
    "from keras.optimizers import Adam\n",
    "\n",
    "num_hidden = 128\n",
    "\n",
    "model = Sequential()\n",
    "model.add(\n",
    "    SimpleRNN(num_hidden, input_shape=(max_name_length, n_letters + 1), \n",
    "         activation='sigmoid'))\n",
    "\n",
    "model.add(Dense(n_categories))\n",
    "\n",
    "model.add(Activation('softmax'))\n",
    "\n",
    "optimizer = Adam(lr=0.005)\n",
    "model.compile(optimizer=optimizer,\n",
    "              loss='categorical_crossentropy',\n",
    "              metrics=['accuracy'])\n",
    "model.summary()"
   ]
  },
  {
   "cell_type": "code",
   "execution_count": 301,
   "metadata": {
    "collapsed": false
   },
   "outputs": [
    {
     "name": "stdout",
     "output_type": "stream",
     "text": [
      "Train on 129600 samples, validate on 14400 samples\n",
      "Epoch 1/100\n",
      "16s - loss: 2.6719 - acc: 0.1018 - val_loss: 7.5226 - val_acc: 0.0000e+00\n",
      "Epoch 2/100\n",
      "18s - loss: 2.3354 - acc: 0.1970 - val_loss: 7.3984 - val_acc: 0.0000e+00\n",
      "Epoch 3/100\n",
      "19s - loss: 2.1031 - acc: 0.2697 - val_loss: 8.3352 - val_acc: 0.0000e+00\n",
      "Epoch 4/100\n",
      "20s - loss: 1.8739 - acc: 0.3374 - val_loss: 8.8991 - val_acc: 0.0000e+00\n",
      "Epoch 5/100\n",
      "21s - loss: 1.6784 - acc: 0.3979 - val_loss: 9.3072 - val_acc: 0.0000e+00\n",
      "Epoch 6/100\n",
      "24s - loss: 1.4957 - acc: 0.4743 - val_loss: 9.9202 - val_acc: 0.0000e+00\n",
      "Epoch 7/100\n",
      "23s - loss: 1.3456 - acc: 0.5473 - val_loss: 9.6810 - val_acc: 0.0000e+00\n",
      "Epoch 8/100\n",
      "23s - loss: 1.1947 - acc: 0.6096 - val_loss: 9.4827 - val_acc: 0.0000e+00\n",
      "Epoch 9/100\n",
      "23s - loss: 1.0817 - acc: 0.6516 - val_loss: 10.0184 - val_acc: 0.0000e+00\n",
      "Epoch 10/100\n",
      "22s - loss: 0.9745 - acc: 0.6887 - val_loss: 9.8017 - val_acc: 0.0524\n",
      "Epoch 11/100\n",
      "22s - loss: 0.8989 - acc: 0.7143 - val_loss: 9.8950 - val_acc: 0.0616\n",
      "Epoch 12/100\n",
      "21s - loss: 0.8183 - acc: 0.7393 - val_loss: 9.7799 - val_acc: 0.0899\n",
      "Epoch 13/100\n",
      "22s - loss: 0.7675 - acc: 0.7559 - val_loss: 9.9696 - val_acc: 0.0868\n",
      "Epoch 14/100\n",
      "22s - loss: 0.7245 - acc: 0.7701 - val_loss: 9.6613 - val_acc: 0.1365\n",
      "Epoch 15/100\n",
      "21s - loss: 0.6865 - acc: 0.7827 - val_loss: 9.8970 - val_acc: 0.1028\n",
      "Epoch 16/100\n",
      "21s - loss: 0.6425 - acc: 0.7970 - val_loss: 9.5794 - val_acc: 0.1731\n",
      "Epoch 17/100\n",
      "21s - loss: 0.6073 - acc: 0.8080 - val_loss: 9.8537 - val_acc: 0.1667\n",
      "Epoch 18/100\n",
      "22s - loss: 0.5875 - acc: 0.8150 - val_loss: 9.5009 - val_acc: 0.2126\n",
      "Epoch 19/100\n",
      "21s - loss: 0.5482 - acc: 0.8266 - val_loss: 9.6979 - val_acc: 0.2367\n",
      "Epoch 20/100\n",
      "21s - loss: 0.5285 - acc: 0.8330 - val_loss: 9.6350 - val_acc: 0.2110\n",
      "Epoch 21/100\n",
      "21s - loss: 0.5048 - acc: 0.8408 - val_loss: 9.7029 - val_acc: 0.2047\n",
      "Epoch 22/100\n",
      "22s - loss: 0.4965 - acc: 0.8450 - val_loss: 9.4476 - val_acc: 0.2702\n",
      "Epoch 23/100\n",
      "22s - loss: 0.4724 - acc: 0.8524 - val_loss: 9.4952 - val_acc: 0.2781\n",
      "Epoch 24/100\n",
      "22s - loss: 0.4596 - acc: 0.8552 - val_loss: 9.3057 - val_acc: 0.2869\n",
      "Epoch 25/100\n",
      "21s - loss: 0.4511 - acc: 0.8592 - val_loss: 9.4446 - val_acc: 0.2867\n",
      "Epoch 26/100\n",
      "21s - loss: 0.4353 - acc: 0.8638 - val_loss: 9.4634 - val_acc: 0.2805\n",
      "Epoch 27/100\n",
      "23s - loss: 0.4469 - acc: 0.8610 - val_loss: 9.4802 - val_acc: 0.2651\n",
      "Epoch 28/100\n",
      "23s - loss: 0.5074 - acc: 0.8475 - val_loss: 9.4068 - val_acc: 0.2743\n",
      "Epoch 29/100\n",
      "22s - loss: 0.4074 - acc: 0.8744 - val_loss: 9.3856 - val_acc: 0.3001\n",
      "Epoch 30/100\n",
      "23s - loss: 0.4132 - acc: 0.8704 - val_loss: 9.3797 - val_acc: 0.2976\n",
      "Epoch 31/100\n",
      "22s - loss: 0.4025 - acc: 0.8736 - val_loss: 9.4860 - val_acc: 0.2751\n",
      "Epoch 32/100\n",
      "22s - loss: 0.3857 - acc: 0.8795 - val_loss: 9.4662 - val_acc: 0.2730\n",
      "Epoch 33/100\n",
      "23s - loss: 0.4036 - acc: 0.8748 - val_loss: 9.3501 - val_acc: 0.2951\n",
      "Epoch 34/100\n",
      "22s - loss: 0.3641 - acc: 0.8858 - val_loss: 9.3444 - val_acc: 0.2842\n",
      "Epoch 35/100\n",
      "22s - loss: 0.4580 - acc: 0.8625 - val_loss: 9.4664 - val_acc: 0.2601\n",
      "Epoch 36/100\n",
      "22s - loss: 0.3429 - acc: 0.8922 - val_loss: 9.3303 - val_acc: 0.3017\n",
      "Epoch 37/100\n",
      "22s - loss: 0.3516 - acc: 0.8899 - val_loss: 9.3063 - val_acc: 0.3137\n",
      "Epoch 38/100\n",
      "23s - loss: 0.3654 - acc: 0.8865 - val_loss: 9.4872 - val_acc: 0.2525\n",
      "Epoch 39/100\n",
      "23s - loss: 0.3522 - acc: 0.8904 - val_loss: 9.6152 - val_acc: 0.2651\n",
      "Epoch 40/100\n",
      "21s - loss: 0.3519 - acc: 0.8910 - val_loss: 9.3705 - val_acc: 0.2994\n",
      "Epoch 41/100\n",
      "18s - loss: 0.3368 - acc: 0.8954 - val_loss: 9.3273 - val_acc: 0.3106\n",
      "Epoch 42/100\n",
      "18s - loss: 0.3552 - acc: 0.8905 - val_loss: 9.4892 - val_acc: 0.2308\n",
      "Epoch 43/100\n",
      "17s - loss: 0.3431 - acc: 0.8946 - val_loss: 9.6511 - val_acc: 0.2431\n",
      "Epoch 44/100\n",
      "16s - loss: 0.3247 - acc: 0.8986 - val_loss: 9.3391 - val_acc: 0.3035\n",
      "Epoch 45/100\n",
      "16s - loss: 0.3229 - acc: 0.8994 - val_loss: 9.3945 - val_acc: 0.2740\n",
      "Epoch 46/100\n",
      "18s - loss: 0.4113 - acc: 0.8781 - val_loss: 10.8230 - val_acc: 0.0531\n",
      "Epoch 47/100\n",
      "17s - loss: 0.3548 - acc: 0.8919 - val_loss: 9.3368 - val_acc: 0.2984\n",
      "Epoch 48/100\n",
      "19s - loss: 0.3055 - acc: 0.9047 - val_loss: 9.2621 - val_acc: 0.3109\n",
      "Epoch 49/100\n",
      "18s - loss: 0.3249 - acc: 0.8990 - val_loss: 9.3658 - val_acc: 0.2819\n",
      "Epoch 50/100\n",
      "18s - loss: 0.3461 - acc: 0.8939 - val_loss: 9.2403 - val_acc: 0.3127\n",
      "Epoch 51/100\n",
      "18s - loss: 0.3635 - acc: 0.8898 - val_loss: 9.6871 - val_acc: 0.2228\n",
      "Epoch 52/100\n",
      "17s - loss: 0.3449 - acc: 0.8946 - val_loss: 9.5673 - val_acc: 0.2649\n",
      "Epoch 53/100\n",
      "19s - loss: 0.3181 - acc: 0.9031 - val_loss: 9.3735 - val_acc: 0.3019\n",
      "Epoch 54/100\n",
      "17s - loss: 0.3039 - acc: 0.9054 - val_loss: 9.6311 - val_acc: 0.2410\n",
      "Epoch 55/100\n",
      "18s - loss: 0.3119 - acc: 0.9043 - val_loss: 9.2409 - val_acc: 0.3103\n",
      "Epoch 56/100\n",
      "17s - loss: 0.3041 - acc: 0.9068 - val_loss: 9.2788 - val_acc: 0.3058\n",
      "Epoch 57/100\n",
      "18s - loss: 0.3106 - acc: 0.9049 - val_loss: 9.3168 - val_acc: 0.2952\n",
      "Epoch 58/100\n",
      "16s - loss: 0.3640 - acc: 0.8900 - val_loss: 9.3418 - val_acc: 0.3258\n",
      "Epoch 59/100\n",
      "17s - loss: 0.3310 - acc: 0.9011 - val_loss: 9.4383 - val_acc: 0.3032\n",
      "Epoch 60/100\n",
      "16s - loss: 0.3756 - acc: 0.8884 - val_loss: 9.2349 - val_acc: 0.3469\n",
      "Epoch 61/100\n",
      "16s - loss: 0.2762 - acc: 0.9151 - val_loss: 9.2468 - val_acc: 0.3155\n",
      "Epoch 62/100\n",
      "16s - loss: 0.4712 - acc: 0.8638 - val_loss: 9.8389 - val_acc: 0.1178\n",
      "Epoch 63/100\n",
      "17s - loss: 0.4919 - acc: 0.8595 - val_loss: 9.4937 - val_acc: 0.2565\n",
      "Epoch 64/100\n",
      "16s - loss: 0.3133 - acc: 0.9054 - val_loss: 9.4783 - val_acc: 0.2717\n",
      "Epoch 65/100\n",
      "16s - loss: 0.3126 - acc: 0.9039 - val_loss: 9.2664 - val_acc: 0.3369\n",
      "Epoch 66/100\n",
      "16s - loss: 0.3201 - acc: 0.9032 - val_loss: 9.4424 - val_acc: 0.2529\n",
      "Epoch 67/100\n",
      "18s - loss: 0.3482 - acc: 0.8950 - val_loss: 9.3217 - val_acc: 0.3328\n",
      "Epoch 68/100\n",
      "19s - loss: 0.3893 - acc: 0.8857 - val_loss: 9.6846 - val_acc: 0.2130\n",
      "Epoch 69/100\n",
      "17s - loss: 0.2915 - acc: 0.9106 - val_loss: 9.2596 - val_acc: 0.3193\n",
      "Epoch 70/100\n",
      "17s - loss: 0.3192 - acc: 0.9023 - val_loss: 9.2214 - val_acc: 0.3320\n",
      "Epoch 71/100\n",
      "17s - loss: 0.3554 - acc: 0.8949 - val_loss: 9.2108 - val_acc: 0.3441\n",
      "Epoch 72/100\n",
      "18s - loss: 0.3216 - acc: 0.9023 - val_loss: 9.2778 - val_acc: 0.3344\n",
      "Epoch 73/100\n",
      "20s - loss: 0.2792 - acc: 0.9144 - val_loss: 9.2718 - val_acc: 0.3138\n",
      "Epoch 74/100\n",
      "20s - loss: 0.3498 - acc: 0.8962 - val_loss: 9.3570 - val_acc: 0.3164\n",
      "Epoch 75/100\n",
      "18s - loss: 0.2811 - acc: 0.9152 - val_loss: 9.2297 - val_acc: 0.3239\n",
      "Epoch 76/100\n",
      "18s - loss: 0.3555 - acc: 0.8955 - val_loss: 9.3705 - val_acc: 0.3121\n",
      "Epoch 77/100\n",
      "19s - loss: 0.3313 - acc: 0.9000 - val_loss: 9.6029 - val_acc: 0.2172\n",
      "Epoch 78/100\n",
      "18s - loss: 0.2885 - acc: 0.9123 - val_loss: 9.3368 - val_acc: 0.2985\n",
      "Epoch 79/100\n",
      "18s - loss: 0.2768 - acc: 0.9148 - val_loss: 9.2283 - val_acc: 0.3392\n",
      "Epoch 80/100\n",
      "18s - loss: 0.4136 - acc: 0.8805 - val_loss: 9.2906 - val_acc: 0.2901\n",
      "Epoch 81/100\n",
      "18s - loss: 0.2946 - acc: 0.9117 - val_loss: 9.2994 - val_acc: 0.3040\n",
      "Epoch 82/100\n",
      "18s - loss: 0.3224 - acc: 0.9028 - val_loss: 9.2703 - val_acc: 0.3162\n",
      "Epoch 83/100\n",
      "18s - loss: 0.3388 - acc: 0.8991 - val_loss: 9.3797 - val_acc: 0.3100\n",
      "Epoch 84/100\n",
      "18s - loss: 0.3279 - acc: 0.9022 - val_loss: 9.8271 - val_acc: 0.1753\n",
      "Epoch 85/100\n",
      "19s - loss: 0.3361 - acc: 0.8988 - val_loss: 9.3389 - val_acc: 0.2904\n",
      "Epoch 86/100\n",
      "18s - loss: 0.3593 - acc: 0.8921 - val_loss: 9.2906 - val_acc: 0.3106\n",
      "Epoch 87/100\n",
      "19s - loss: 0.3175 - acc: 0.9047 - val_loss: 9.5349 - val_acc: 0.2356\n",
      "Epoch 88/100\n",
      "18s - loss: 0.3023 - acc: 0.9092 - val_loss: 9.2767 - val_acc: 0.3130\n",
      "Epoch 89/100\n",
      "19s - loss: 0.3156 - acc: 0.9056 - val_loss: 9.2545 - val_acc: 0.3154\n",
      "Epoch 90/100\n",
      "19s - loss: 0.3352 - acc: 0.8992 - val_loss: 9.4419 - val_acc: 0.2928\n",
      "Epoch 91/100\n",
      "19s - loss: 0.3589 - acc: 0.8948 - val_loss: 9.3342 - val_acc: 0.2906\n",
      "Epoch 92/100\n",
      "18s - loss: 0.2750 - acc: 0.9168 - val_loss: 9.4559 - val_acc: 0.2831\n",
      "Epoch 93/100\n",
      "18s - loss: 0.3274 - acc: 0.9022 - val_loss: 9.2847 - val_acc: 0.2992\n",
      "Epoch 94/100\n",
      "19s - loss: 0.2800 - acc: 0.9148 - val_loss: 9.3468 - val_acc: 0.2955\n",
      "Epoch 95/100\n",
      "18s - loss: 0.3038 - acc: 0.9080 - val_loss: 9.2103 - val_acc: 0.3506\n",
      "Epoch 96/100\n",
      "18s - loss: 0.4102 - acc: 0.8835 - val_loss: 10.1554 - val_acc: 0.0904\n",
      "Epoch 97/100\n",
      "19s - loss: 0.4690 - acc: 0.8627 - val_loss: 9.4220 - val_acc: 0.2585\n",
      "Epoch 98/100\n",
      "19s - loss: 0.3307 - acc: 0.9006 - val_loss: 9.5618 - val_acc: 0.2185\n",
      "Epoch 99/100\n",
      "19s - loss: 0.4050 - acc: 0.8812 - val_loss: 9.6991 - val_acc: 0.2321\n",
      "Epoch 100/100\n",
      "20s - loss: 0.4878 - acc: 0.8589 - val_loss: 9.4866 - val_acc: 0.3034\n"
     ]
    }
   ],
   "source": [
    "fit_logs = model.fit(\n",
    "    training_seqs, targets, batch_size=128, epochs=20, verbose=2, validation_split=.1)"
   ]
  },
  {
   "cell_type": "code",
   "execution_count": 302,
   "metadata": {
    "collapsed": false
   },
   "outputs": [
    {
     "data": {
      "image/png": "[encoded data removed]",
      "text/plain": [
       "<matplotlib.figure.Figure at 0x134a05e48>"
      ]
     },
     "metadata": {},
     "output_type": "display_data"
    }
   ],
   "source": [
    "import matplotlib.pyplot as plt\n",
    "%matplotlib inline\n",
    "\n",
    "\n",
    "plt.figure(figsize=(12, 6))\n",
    "plt.plot(fit_logs.history['val_acc'], label='val_acc')\n",
    "plt.plot(fit_logs.history['acc'], label='train_acc')\n",
    "plt.legend();"
   ]
  },
  {
   "cell_type": "code",
   "execution_count": 303,
   "metadata": {
    "collapsed": false
   },
   "outputs": [
    {
     "data": {
      "image/png": "[encoded data removed]",
      "text/plain": [
       "<matplotlib.figure.Figure at 0x13389bdd8>"
      ]
     },
     "metadata": {},
     "output_type": "display_data"
    }
   ],
   "source": [
    "import matplotlib.pyplot as plt\n",
    "import matplotlib.ticker as ticker\n",
    "%matplotlib inline\n",
    "\n",
    "# Keep track of correct guesses in a confusion matrix\n",
    "confusion = np.zeros((n_categories, n_categories))\n",
    "\n",
    "predicted_targets = model.predict(training_seqs, verbose=0)\n",
    "\n",
    "for target_index, predicted_index in zip(targets.argmax(axis=1), predicted_targets.argmax(axis=1)):\n",
    "    confusion[target_index][predicted_index] += 1\n",
    "\n",
    "row_normalised_confusion = np.array([r / r.sum() for r in confusion])\n",
    "\n",
    "# Set up plot\n",
    "fig = plt.figure()\n",
    "ax = fig.add_subplot(111)\n",
    "cax = ax.matshow(row_normalised_confusion)\n",
    "fig.colorbar(cax)\n",
    "\n",
    "# Set up axes\n",
    "ax.set_xticklabels([''] + all_categories, rotation=90)\n",
    "ax.set_yticklabels([''] + all_categories)\n",
    "\n",
    "# Force label at every tick\n",
    "ax.xaxis.set_major_locator(ticker.MultipleLocator(1))\n",
    "ax.yaxis.set_major_locator(ticker.MultipleLocator(1))\n",
    "\n",
    "plt.show()"
   ]
  },
  {
   "cell_type": "code",
   "execution_count": 304,
   "metadata": {
    "collapsed": false
   },
   "outputs": [
    {
     "name": "stdout",
     "output_type": "stream",
     "text": [
      "0.829534722222\n"
     ]
    }
   ],
   "source": [
    "print(confusion.diagonal().sum() / confusion.sum())"
   ]
  },
  {
   "cell_type": "markdown",
   "metadata": {},
   "source": [
    "## Test with \"out of sample\" examples"
   ]
  },
  {
   "cell_type": "code",
   "execution_count": 428,
   "metadata": {
    "collapsed": false
   },
   "outputs": [
    {
     "data": {
      "text/html": [
       "<div>\n",
       "<table border=\"1\" class=\"dataframe\">\n",
       "  <thead>\n",
       "    <tr style=\"text-align: right;\">\n",
       "      <th></th>\n",
       "      <th>prob</th>\n",
       "    </tr>\n",
       "  </thead>\n",
       "  <tbody>\n",
       "    <tr>\n",
       "      <th>French</th>\n",
       "      <td>0.314725</td>\n",
       "    </tr>\n",
       "    <tr>\n",
       "      <th>German</th>\n",
       "      <td>0.257561</td>\n",
       "    </tr>\n",
       "    <tr>\n",
       "      <th>English</th>\n",
       "      <td>0.254238</td>\n",
       "    </tr>\n",
       "    <tr>\n",
       "      <th>Czech</th>\n",
       "      <td>0.118958</td>\n",
       "    </tr>\n",
       "    <tr>\n",
       "      <th>Russian</th>\n",
       "      <td>0.047033</td>\n",
       "    </tr>\n",
       "  </tbody>\n",
       "</table>\n",
       "</div>"
      ],
      "text/plain": [
       "             prob\n",
       "French   0.314725\n",
       "German   0.257561\n",
       "English  0.254238\n",
       "Czech    0.118958\n",
       "Russian  0.047033"
      ]
     },
     "execution_count": 428,
     "metadata": {},
     "output_type": "execute_result"
    }
   ],
   "source": [
    "def predict_nationality_probs(name, topn=5, model=model):\n",
    "    predicted_probs = model.predict(np.array([lineToTensor(name)]), verbose=0)\n",
    "    return pd.DataFrame(predicted_probs.reshape((-1, 1)), index=name_nations.nation.cat.categories, columns=['prob'])\\\n",
    "        .sort_values(by='prob', ascending=False).head(topn)\n",
    "\n",
    "def train_name_containing(pattern):\n",
    "    return original_name_nations[original_name_nations.name.str.contains(pattern)]\n",
    "\n",
    "predict_nationality_probs(\"Macron\")"
   ]
  },
  {
   "cell_type": "code",
   "execution_count": 435,
   "metadata": {
    "collapsed": false
   },
   "outputs": [
    {
     "data": {
      "text/html": [
       "<div>\n",
       "<table border=\"1\" class=\"dataframe\">\n",
       "  <thead>\n",
       "    <tr style=\"text-align: right;\">\n",
       "      <th></th>\n",
       "      <th>prob</th>\n",
       "    </tr>\n",
       "  </thead>\n",
       "  <tbody>\n",
       "    <tr>\n",
       "      <th>Czech</th>\n",
       "      <td>0.644995</td>\n",
       "    </tr>\n",
       "    <tr>\n",
       "      <th>Polish</th>\n",
       "      <td>0.186342</td>\n",
       "    </tr>\n",
       "    <tr>\n",
       "      <th>Russian</th>\n",
       "      <td>0.150023</td>\n",
       "    </tr>\n",
       "    <tr>\n",
       "      <th>English</th>\n",
       "      <td>0.011958</td>\n",
       "    </tr>\n",
       "    <tr>\n",
       "      <th>Italian</th>\n",
       "      <td>0.003247</td>\n",
       "    </tr>\n",
       "  </tbody>\n",
       "</table>\n",
       "</div>"
      ],
      "text/plain": [
       "             prob\n",
       "Czech    0.644995\n",
       "Polish   0.186342\n",
       "Russian  0.150023\n",
       "English  0.011958\n",
       "Italian  0.003247"
      ]
     },
     "execution_count": 435,
     "metadata": {},
     "output_type": "execute_result"
    }
   ],
   "source": [
    "predict_nationality_probs(\"Marciniak\")"
   ]
  },
  {
   "cell_type": "code",
   "execution_count": 441,
   "metadata": {
    "collapsed": false
   },
   "outputs": [
    {
     "name": "stdout",
     "output_type": "stream",
     "text": [
      "        nation         name   y\n",
      "2694     Czech      Sokolik   2\n",
      "10335  Russian    Abolikhin  14\n",
      "16736  Russian    Polikanov  14\n",
      "16737  Russian   Polikarpov  14\n",
      "16738  Russian  Polikashkin  14\n"
     ]
    },
    {
     "data": {
      "text/html": [
       "<div>\n",
       "<table border=\"1\" class=\"dataframe\">\n",
       "  <thead>\n",
       "    <tr style=\"text-align: right;\">\n",
       "      <th></th>\n",
       "      <th>prob</th>\n",
       "    </tr>\n",
       "  </thead>\n",
       "  <tbody>\n",
       "    <tr>\n",
       "      <th>Polish</th>\n",
       "      <td>0.998058</td>\n",
       "    </tr>\n",
       "    <tr>\n",
       "      <th>Russian</th>\n",
       "      <td>0.001080</td>\n",
       "    </tr>\n",
       "    <tr>\n",
       "      <th>Czech</th>\n",
       "      <td>0.000749</td>\n",
       "    </tr>\n",
       "    <tr>\n",
       "      <th>Italian</th>\n",
       "      <td>0.000082</td>\n",
       "    </tr>\n",
       "    <tr>\n",
       "      <th>Japanese</th>\n",
       "      <td>0.000012</td>\n",
       "    </tr>\n",
       "  </tbody>\n",
       "</table>\n",
       "</div>"
      ],
      "text/plain": [
       "              prob\n",
       "Polish    0.998058\n",
       "Russian   0.001080\n",
       "Czech     0.000749\n",
       "Italian   0.000082\n",
       "Japanese  0.000012"
      ]
     },
     "execution_count": 441,
     "metadata": {},
     "output_type": "execute_result"
    }
   ],
   "source": [
    "print(train_name_containing(\"olik\"))\n",
    "predict_nationality_probs(\"Frolik\")"
   ]
  },
  {
   "cell_type": "code",
   "execution_count": 447,
   "metadata": {
    "collapsed": false
   },
   "outputs": [
    {
     "data": {
      "text/html": [
       "<div>\n",
       "<table border=\"1\" class=\"dataframe\">\n",
       "  <thead>\n",
       "    <tr style=\"text-align: right;\">\n",
       "      <th></th>\n",
       "      <th>prob</th>\n",
       "    </tr>\n",
       "  </thead>\n",
       "  <tbody>\n",
       "    <tr>\n",
       "      <th>Chinese</th>\n",
       "      <td>0.990100</td>\n",
       "    </tr>\n",
       "    <tr>\n",
       "      <th>Korean</th>\n",
       "      <td>0.002496</td>\n",
       "    </tr>\n",
       "    <tr>\n",
       "      <th>Vietnamese</th>\n",
       "      <td>0.002473</td>\n",
       "    </tr>\n",
       "    <tr>\n",
       "      <th>English</th>\n",
       "      <td>0.002348</td>\n",
       "    </tr>\n",
       "    <tr>\n",
       "      <th>Italian</th>\n",
       "      <td>0.001307</td>\n",
       "    </tr>\n",
       "  </tbody>\n",
       "</table>\n",
       "</div>"
      ],
      "text/plain": [
       "                prob\n",
       "Chinese     0.990100\n",
       "Korean      0.002496\n",
       "Vietnamese  0.002473\n",
       "English     0.002348\n",
       "Italian     0.001307"
      ]
     },
     "execution_count": 447,
     "metadata": {},
     "output_type": "execute_result"
    }
   ],
   "source": [
    "predict_nationality_probs(\"Ming\")"
   ]
  },
  {
   "cell_type": "code",
   "execution_count": 397,
   "metadata": {
    "collapsed": false
   },
   "outputs": [
    {
     "data": {
      "text/html": [
       "<div>\n",
       "<table border=\"1\" class=\"dataframe\">\n",
       "  <thead>\n",
       "    <tr style=\"text-align: right;\">\n",
       "      <th></th>\n",
       "      <th>prob</th>\n",
       "    </tr>\n",
       "  </thead>\n",
       "  <tbody>\n",
       "    <tr>\n",
       "      <th>Spanish</th>\n",
       "      <td>0.996003</td>\n",
       "    </tr>\n",
       "    <tr>\n",
       "      <th>English</th>\n",
       "      <td>0.001847</td>\n",
       "    </tr>\n",
       "    <tr>\n",
       "      <th>Russian</th>\n",
       "      <td>0.001369</td>\n",
       "    </tr>\n",
       "    <tr>\n",
       "      <th>Italian</th>\n",
       "      <td>0.000359</td>\n",
       "    </tr>\n",
       "    <tr>\n",
       "      <th>Greek</th>\n",
       "      <td>0.000182</td>\n",
       "    </tr>\n",
       "  </tbody>\n",
       "</table>\n",
       "</div>"
      ],
      "text/plain": [
       "             prob\n",
       "Spanish  0.996003\n",
       "English  0.001847\n",
       "Russian  0.001369\n",
       "Italian  0.000359\n",
       "Greek    0.000182"
      ]
     },
     "execution_count": 397,
     "metadata": {},
     "output_type": "execute_result"
    }
   ],
   "source": [
    "predict_nationality_probs(\"Soarez\")"
   ]
  },
  {
   "cell_type": "code",
   "execution_count": 448,
   "metadata": {
    "collapsed": false
   },
   "outputs": [
    {
     "data": {
      "text/html": [
       "<div>\n",
       "<table border=\"1\" class=\"dataframe\">\n",
       "  <thead>\n",
       "    <tr style=\"text-align: right;\">\n",
       "      <th></th>\n",
       "      <th>prob</th>\n",
       "    </tr>\n",
       "  </thead>\n",
       "  <tbody>\n",
       "    <tr>\n",
       "      <th>Irish</th>\n",
       "      <td>0.507976</td>\n",
       "    </tr>\n",
       "    <tr>\n",
       "      <th>French</th>\n",
       "      <td>0.263601</td>\n",
       "    </tr>\n",
       "    <tr>\n",
       "      <th>Russian</th>\n",
       "      <td>0.103888</td>\n",
       "    </tr>\n",
       "    <tr>\n",
       "      <th>English</th>\n",
       "      <td>0.076266</td>\n",
       "    </tr>\n",
       "    <tr>\n",
       "      <th>German</th>\n",
       "      <td>0.021601</td>\n",
       "    </tr>\n",
       "  </tbody>\n",
       "</table>\n",
       "</div>"
      ],
      "text/plain": [
       "             prob\n",
       "Irish    0.507976\n",
       "French   0.263601\n",
       "Russian  0.103888\n",
       "English  0.076266\n",
       "German   0.021601"
      ]
     },
     "execution_count": 448,
     "metadata": {},
     "output_type": "execute_result"
    }
   ],
   "source": [
    "predict_nationality_probs(\"Illan\")"
   ]
  },
  {
   "cell_type": "code",
   "execution_count": 452,
   "metadata": {
    "collapsed": false
   },
   "outputs": [
    {
     "name": "stdout",
     "output_type": "stream",
     "text": [
      "         nation           name   y\n",
      "7758      Greek       Anetakis   7\n",
      "7770      Greek       Batsakis   7\n",
      "7777      Greek  Brisimitzakis   7\n",
      "7779      Greek    Calogerakis   7\n",
      "7799      Greek        Demakis   7\n",
      "7808      Greek       Drivakis   7\n",
      "7812      Greek        Forakis   7\n",
      "7814      Greek       Fourakis   7\n",
      "7827      Greek  Grammatakakis   7\n",
      "7845      Greek    Karnoupakis   7\n",
      "7868      Greek    Leontarakis   7\n",
      "7878      Greek   Manoukarakis   7\n",
      "7907      Greek       Petrakis   7\n",
      "9726   Japanese      Takishida  10\n",
      "9727   Japanese      Takishita  10\n",
      "11588   Russian          Bakis  14\n"
     ]
    },
    {
     "data": {
      "text/html": [
       "<div>\n",
       "<table border=\"1\" class=\"dataframe\">\n",
       "  <thead>\n",
       "    <tr style=\"text-align: right;\">\n",
       "      <th></th>\n",
       "      <th>prob</th>\n",
       "    </tr>\n",
       "  </thead>\n",
       "  <tbody>\n",
       "    <tr>\n",
       "      <th>Greek</th>\n",
       "      <td>9.987202e-01</td>\n",
       "    </tr>\n",
       "    <tr>\n",
       "      <th>Russian</th>\n",
       "      <td>9.625825e-04</td>\n",
       "    </tr>\n",
       "    <tr>\n",
       "      <th>Spanish</th>\n",
       "      <td>2.992244e-04</td>\n",
       "    </tr>\n",
       "    <tr>\n",
       "      <th>English</th>\n",
       "      <td>1.806496e-05</td>\n",
       "    </tr>\n",
       "    <tr>\n",
       "      <th>Arabic</th>\n",
       "      <td>4.270991e-08</td>\n",
       "    </tr>\n",
       "  </tbody>\n",
       "</table>\n",
       "</div>"
      ],
      "text/plain": [
       "                 prob\n",
       "Greek    9.987202e-01\n",
       "Russian  9.625825e-04\n",
       "Spanish  2.992244e-04\n",
       "English  1.806496e-05\n",
       "Arabic   4.270991e-08"
      ]
     },
     "execution_count": 452,
     "metadata": {},
     "output_type": "execute_result"
    }
   ],
   "source": [
    "print(train_name_containing(\"akis\"))\n",
    "\n",
    "predict_nationality_probs(\"Georgakis\")\n"
   ]
  },
  {
   "cell_type": "code",
   "execution_count": 399,
   "metadata": {
    "collapsed": false
   },
   "outputs": [
    {
     "data": {
      "text/html": [
       "<div>\n",
       "<table border=\"1\" class=\"dataframe\">\n",
       "  <thead>\n",
       "    <tr style=\"text-align: right;\">\n",
       "      <th></th>\n",
       "      <th>prob</th>\n",
       "    </tr>\n",
       "  </thead>\n",
       "  <tbody>\n",
       "    <tr>\n",
       "      <th>Russian</th>\n",
       "      <td>0.997543</td>\n",
       "    </tr>\n",
       "    <tr>\n",
       "      <th>Czech</th>\n",
       "      <td>0.001478</td>\n",
       "    </tr>\n",
       "    <tr>\n",
       "      <th>English</th>\n",
       "      <td>0.000587</td>\n",
       "    </tr>\n",
       "    <tr>\n",
       "      <th>Japanese</th>\n",
       "      <td>0.000303</td>\n",
       "    </tr>\n",
       "    <tr>\n",
       "      <th>German</th>\n",
       "      <td>0.000041</td>\n",
       "    </tr>\n",
       "  </tbody>\n",
       "</table>\n",
       "</div>"
      ],
      "text/plain": [
       "              prob\n",
       "Russian   0.997543\n",
       "Czech     0.001478\n",
       "English   0.000587\n",
       "Japanese  0.000303\n",
       "German    0.000041"
      ]
     },
     "execution_count": 399,
     "metadata": {},
     "output_type": "execute_result"
    }
   ],
   "source": [
    "predict_nationality_probs(\"Soldatov\")"
   ]
  },
  {
   "cell_type": "code",
   "execution_count": 401,
   "metadata": {
    "collapsed": false
   },
   "outputs": [
    {
     "data": {
      "text/html": [
       "<div>\n",
       "<table border=\"1\" class=\"dataframe\">\n",
       "  <thead>\n",
       "    <tr style=\"text-align: right;\">\n",
       "      <th></th>\n",
       "      <th>prob</th>\n",
       "    </tr>\n",
       "  </thead>\n",
       "  <tbody>\n",
       "    <tr>\n",
       "      <th>Scottish</th>\n",
       "      <td>0.682393</td>\n",
       "    </tr>\n",
       "    <tr>\n",
       "      <th>English</th>\n",
       "      <td>0.260273</td>\n",
       "    </tr>\n",
       "    <tr>\n",
       "      <th>Russian</th>\n",
       "      <td>0.021520</td>\n",
       "    </tr>\n",
       "    <tr>\n",
       "      <th>French</th>\n",
       "      <td>0.018721</td>\n",
       "    </tr>\n",
       "    <tr>\n",
       "      <th>Czech</th>\n",
       "      <td>0.013884</td>\n",
       "    </tr>\n",
       "  </tbody>\n",
       "</table>\n",
       "</div>"
      ],
      "text/plain": [
       "              prob\n",
       "Scottish  0.682393\n",
       "English   0.260273\n",
       "Russian   0.021520\n",
       "French    0.018721\n",
       "Czech     0.013884"
      ]
     },
     "execution_count": 401,
     "metadata": {},
     "output_type": "execute_result"
    }
   ],
   "source": [
    "predict_nationality_probs(\"Infante\")"
   ]
  },
  {
   "cell_type": "code",
   "execution_count": 402,
   "metadata": {
    "collapsed": false
   },
   "outputs": [
    {
     "data": {
      "text/html": [
       "<div>\n",
       "<table border=\"1\" class=\"dataframe\">\n",
       "  <thead>\n",
       "    <tr style=\"text-align: right;\">\n",
       "      <th></th>\n",
       "      <th>prob</th>\n",
       "    </tr>\n",
       "  </thead>\n",
       "  <tbody>\n",
       "    <tr>\n",
       "      <th>German</th>\n",
       "      <td>0.904989</td>\n",
       "    </tr>\n",
       "    <tr>\n",
       "      <th>English</th>\n",
       "      <td>0.056325</td>\n",
       "    </tr>\n",
       "    <tr>\n",
       "      <th>Czech</th>\n",
       "      <td>0.028310</td>\n",
       "    </tr>\n",
       "    <tr>\n",
       "      <th>Russian</th>\n",
       "      <td>0.005710</td>\n",
       "    </tr>\n",
       "    <tr>\n",
       "      <th>French</th>\n",
       "      <td>0.002715</td>\n",
       "    </tr>\n",
       "  </tbody>\n",
       "</table>\n",
       "</div>"
      ],
      "text/plain": [
       "             prob\n",
       "German   0.904989\n",
       "English  0.056325\n",
       "Czech    0.028310\n",
       "Russian  0.005710\n",
       "French   0.002715"
      ]
     },
     "execution_count": 402,
     "metadata": {},
     "output_type": "execute_result"
    }
   ],
   "source": [
    "predict_nationality_probs(\"Weiss\")"
   ]
  },
  {
   "cell_type": "code",
   "execution_count": 403,
   "metadata": {
    "collapsed": false
   },
   "outputs": [
    {
     "data": {
      "text/html": [
       "<div>\n",
       "<table border=\"1\" class=\"dataframe\">\n",
       "  <thead>\n",
       "    <tr style=\"text-align: right;\">\n",
       "      <th></th>\n",
       "      <th>prob</th>\n",
       "    </tr>\n",
       "  </thead>\n",
       "  <tbody>\n",
       "    <tr>\n",
       "      <th>Russian</th>\n",
       "      <td>0.416160</td>\n",
       "    </tr>\n",
       "    <tr>\n",
       "      <th>Czech</th>\n",
       "      <td>0.331542</td>\n",
       "    </tr>\n",
       "    <tr>\n",
       "      <th>Greek</th>\n",
       "      <td>0.214100</td>\n",
       "    </tr>\n",
       "    <tr>\n",
       "      <th>Spanish</th>\n",
       "      <td>0.032703</td>\n",
       "    </tr>\n",
       "    <tr>\n",
       "      <th>English</th>\n",
       "      <td>0.003122</td>\n",
       "    </tr>\n",
       "  </tbody>\n",
       "</table>\n",
       "</div>"
      ],
      "text/plain": [
       "             prob\n",
       "Russian  0.416160\n",
       "Czech    0.331542\n",
       "Greek    0.214100\n",
       "Spanish  0.032703\n",
       "English  0.003122"
      ]
     },
     "execution_count": 403,
     "metadata": {},
     "output_type": "execute_result"
    }
   ],
   "source": [
    "predict_nationality_probs(\"Dzhougashvilli\")"
   ]
  },
  {
   "cell_type": "code",
   "execution_count": 453,
   "metadata": {
    "collapsed": false
   },
   "outputs": [
    {
     "data": {
      "text/html": [
       "<div>\n",
       "<table border=\"1\" class=\"dataframe\">\n",
       "  <thead>\n",
       "    <tr style=\"text-align: right;\">\n",
       "      <th></th>\n",
       "      <th>prob</th>\n",
       "    </tr>\n",
       "  </thead>\n",
       "  <tbody>\n",
       "    <tr>\n",
       "      <th>Russian</th>\n",
       "      <td>0.996419</td>\n",
       "    </tr>\n",
       "    <tr>\n",
       "      <th>Czech</th>\n",
       "      <td>0.001952</td>\n",
       "    </tr>\n",
       "    <tr>\n",
       "      <th>English</th>\n",
       "      <td>0.000896</td>\n",
       "    </tr>\n",
       "    <tr>\n",
       "      <th>Japanese</th>\n",
       "      <td>0.000414</td>\n",
       "    </tr>\n",
       "    <tr>\n",
       "      <th>Italian</th>\n",
       "      <td>0.000169</td>\n",
       "    </tr>\n",
       "  </tbody>\n",
       "</table>\n",
       "</div>"
      ],
      "text/plain": [
       "              prob\n",
       "Russian   0.996419\n",
       "Czech     0.001952\n",
       "English   0.000896\n",
       "Japanese  0.000414\n",
       "Italian   0.000169"
      ]
     },
     "execution_count": 453,
     "metadata": {},
     "output_type": "execute_result"
    }
   ],
   "source": [
    "predict_nationality_probs(\"Shevelyov\")"
   ]
  },
  {
   "cell_type": "code",
   "execution_count": 404,
   "metadata": {
    "collapsed": false
   },
   "outputs": [
    {
     "data": {
      "text/html": [
       "<div>\n",
       "<table border=\"1\" class=\"dataframe\">\n",
       "  <thead>\n",
       "    <tr style=\"text-align: right;\">\n",
       "      <th></th>\n",
       "      <th>prob</th>\n",
       "    </tr>\n",
       "  </thead>\n",
       "  <tbody>\n",
       "    <tr>\n",
       "      <th>French</th>\n",
       "      <td>0.995687</td>\n",
       "    </tr>\n",
       "    <tr>\n",
       "      <th>Russian</th>\n",
       "      <td>0.001225</td>\n",
       "    </tr>\n",
       "    <tr>\n",
       "      <th>Italian</th>\n",
       "      <td>0.000915</td>\n",
       "    </tr>\n",
       "    <tr>\n",
       "      <th>English</th>\n",
       "      <td>0.000611</td>\n",
       "    </tr>\n",
       "    <tr>\n",
       "      <th>German</th>\n",
       "      <td>0.000592</td>\n",
       "    </tr>\n",
       "  </tbody>\n",
       "</table>\n",
       "</div>"
      ],
      "text/plain": [
       "             prob\n",
       "French   0.995687\n",
       "Russian  0.001225\n",
       "Italian  0.000915\n",
       "English  0.000611\n",
       "German   0.000592"
      ]
     },
     "execution_count": 404,
     "metadata": {},
     "output_type": "execute_result"
    }
   ],
   "source": [
    "predict_nationality_probs(\"Durand\")"
   ]
  },
  {
   "cell_type": "code",
   "execution_count": 421,
   "metadata": {
    "collapsed": false
   },
   "outputs": [
    {
     "data": {
      "text/html": [
       "<div>\n",
       "<table border=\"1\" class=\"dataframe\">\n",
       "  <thead>\n",
       "    <tr style=\"text-align: right;\">\n",
       "      <th></th>\n",
       "      <th>nation</th>\n",
       "      <th>name</th>\n",
       "      <th>y</th>\n",
       "    </tr>\n",
       "  </thead>\n",
       "  <tbody>\n",
       "    <tr>\n",
       "      <th>3867</th>\n",
       "      <td>English</td>\n",
       "      <td>Durand</td>\n",
       "      <td>4</td>\n",
       "    </tr>\n",
       "    <tr>\n",
       "      <th>6837</th>\n",
       "      <td>French</td>\n",
       "      <td>Durand</td>\n",
       "      <td>5</td>\n",
       "    </tr>\n",
       "  </tbody>\n",
       "</table>\n",
       "</div>"
      ],
      "text/plain": [
       "       nation    name  y\n",
       "3867  English  Durand  4\n",
       "6837   French  Durand  5"
      ]
     },
     "execution_count": 421,
     "metadata": {},
     "output_type": "execute_result"
    }
   ],
   "source": [
    "train_name_containing(\"Durand\")"
   ]
  },
  {
   "cell_type": "code",
   "execution_count": 429,
   "metadata": {
    "collapsed": false
   },
   "outputs": [
    {
     "data": {
      "text/html": [
       "<div>\n",
       "<table border=\"1\" class=\"dataframe\">\n",
       "  <thead>\n",
       "    <tr style=\"text-align: right;\">\n",
       "      <th></th>\n",
       "      <th>prob</th>\n",
       "    </tr>\n",
       "  </thead>\n",
       "  <tbody>\n",
       "    <tr>\n",
       "      <th>English</th>\n",
       "      <td>0.647855</td>\n",
       "    </tr>\n",
       "    <tr>\n",
       "      <th>German</th>\n",
       "      <td>0.256748</td>\n",
       "    </tr>\n",
       "    <tr>\n",
       "      <th>Russian</th>\n",
       "      <td>0.049486</td>\n",
       "    </tr>\n",
       "    <tr>\n",
       "      <th>Czech</th>\n",
       "      <td>0.024357</td>\n",
       "    </tr>\n",
       "    <tr>\n",
       "      <th>Dutch</th>\n",
       "      <td>0.008764</td>\n",
       "    </tr>\n",
       "  </tbody>\n",
       "</table>\n",
       "</div>"
      ],
      "text/plain": [
       "             prob\n",
       "English  0.647855\n",
       "German   0.256748\n",
       "Russian  0.049486\n",
       "Czech    0.024357\n",
       "Dutch    0.008764"
      ]
     },
     "execution_count": 429,
     "metadata": {},
     "output_type": "execute_result"
    }
   ],
   "source": [
    "predict_nationality_probs(\"Allain\")"
   ]
  },
  {
   "cell_type": "code",
   "execution_count": 431,
   "metadata": {
    "collapsed": false
   },
   "outputs": [
    {
     "data": {
      "text/html": [
       "<div>\n",
       "<table border=\"1\" class=\"dataframe\">\n",
       "  <thead>\n",
       "    <tr style=\"text-align: right;\">\n",
       "      <th></th>\n",
       "      <th>nation</th>\n",
       "      <th>name</th>\n",
       "      <th>y</th>\n",
       "    </tr>\n",
       "  </thead>\n",
       "  <tbody>\n",
       "    <tr>\n",
       "      <th>3150</th>\n",
       "      <td>English</td>\n",
       "      <td>Alladee</td>\n",
       "      <td>4</td>\n",
       "    </tr>\n",
       "    <tr>\n",
       "      <th>3151</th>\n",
       "      <td>English</td>\n",
       "      <td>Allam</td>\n",
       "      <td>4</td>\n",
       "    </tr>\n",
       "    <tr>\n",
       "      <th>3152</th>\n",
       "      <td>English</td>\n",
       "      <td>Allan</td>\n",
       "      <td>4</td>\n",
       "    </tr>\n",
       "    <tr>\n",
       "      <th>3153</th>\n",
       "      <td>English</td>\n",
       "      <td>Allard</td>\n",
       "      <td>4</td>\n",
       "    </tr>\n",
       "    <tr>\n",
       "      <th>3154</th>\n",
       "      <td>English</td>\n",
       "      <td>Allaway</td>\n",
       "      <td>4</td>\n",
       "    </tr>\n",
       "    <tr>\n",
       "      <th>6756</th>\n",
       "      <td>French</td>\n",
       "      <td>Allard</td>\n",
       "      <td>5</td>\n",
       "    </tr>\n",
       "    <tr>\n",
       "      <th>19641</th>\n",
       "      <td>Scottish</td>\n",
       "      <td>Allan</td>\n",
       "      <td>15</td>\n",
       "    </tr>\n",
       "  </tbody>\n",
       "</table>\n",
       "</div>"
      ],
      "text/plain": [
       "         nation     name   y\n",
       "3150    English  Alladee   4\n",
       "3151    English    Allam   4\n",
       "3152    English    Allan   4\n",
       "3153    English   Allard   4\n",
       "3154    English  Allaway   4\n",
       "6756     French   Allard   5\n",
       "19641  Scottish    Allan  15"
      ]
     },
     "execution_count": 431,
     "metadata": {},
     "output_type": "execute_result"
    }
   ],
   "source": [
    "train_name_containing(\"Alla\")"
   ]
  },
  {
   "cell_type": "code",
   "execution_count": 433,
   "metadata": {
    "collapsed": false
   },
   "outputs": [
    {
     "data": {
      "text/html": [
       "<div>\n",
       "<table border=\"1\" class=\"dataframe\">\n",
       "  <thead>\n",
       "    <tr style=\"text-align: right;\">\n",
       "      <th></th>\n",
       "      <th>nation</th>\n",
       "      <th>name</th>\n",
       "      <th>y</th>\n",
       "    </tr>\n",
       "  </thead>\n",
       "  <tbody>\n",
       "    <tr>\n",
       "      <th>3521</th>\n",
       "      <td>English</td>\n",
       "      <td>Chamberlain</td>\n",
       "      <td>4</td>\n",
       "    </tr>\n",
       "    <tr>\n",
       "      <th>7027</th>\n",
       "      <td>French</td>\n",
       "      <td>Voclain</td>\n",
       "      <td>5</td>\n",
       "    </tr>\n",
       "    <tr>\n",
       "      <th>8000</th>\n",
       "      <td>Irish</td>\n",
       "      <td>Dubhshlaine</td>\n",
       "      <td>8</td>\n",
       "    </tr>\n",
       "    <tr>\n",
       "      <th>8065</th>\n",
       "      <td>Irish</td>\n",
       "      <td>Mclain</td>\n",
       "      <td>8</td>\n",
       "    </tr>\n",
       "    <tr>\n",
       "      <th>8141</th>\n",
       "      <td>Irish</td>\n",
       "      <td>Pharlain</td>\n",
       "      <td>8</td>\n",
       "    </tr>\n",
       "    <tr>\n",
       "      <th>14123</th>\n",
       "      <td>Russian</td>\n",
       "      <td>Hudilainen</td>\n",
       "      <td>14</td>\n",
       "    </tr>\n",
       "  </tbody>\n",
       "</table>\n",
       "</div>"
      ],
      "text/plain": [
       "        nation         name   y\n",
       "3521   English  Chamberlain   4\n",
       "7027    French      Voclain   5\n",
       "8000     Irish  Dubhshlaine   8\n",
       "8065     Irish       Mclain   8\n",
       "8141     Irish     Pharlain   8\n",
       "14123  Russian   Hudilainen  14"
      ]
     },
     "execution_count": 433,
     "metadata": {},
     "output_type": "execute_result"
    }
   ],
   "source": [
    "train_name_containing(\"lain\")"
   ]
  },
  {
   "cell_type": "code",
   "execution_count": null,
   "metadata": {
    "collapsed": true
   },
   "outputs": [],
   "source": []
  }
 ],
 "metadata": {
  "anaconda-cloud": {},
  "kernelspec": {
   "display_name": "Python 3",
   "language": "python",
   "name": "python3"
  },
  "language_info": {
   "codemirror_mode": {
    "name": "ipython",
    "version": 3
   },
   "file_extension": ".py",
   "mimetype": "text/x-python",
   "name": "python",
   "nbconvert_exporter": "python",
   "pygments_lexer": "ipython3",
   "version": "3.6.0"
  }
 },
 "nbformat": 4,
 "nbformat_minor": 1
}
